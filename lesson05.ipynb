{
 "cells": [
  {
   "cell_type": "markdown",
   "metadata": {},
   "source": [
    "# Week 05: Linked List"
   ]
  },
  {
   "cell_type": "code",
   "execution_count": 2,
   "metadata": {},
   "outputs": [],
   "source": [
    "class Node:\n",
    "    def __init__(self):\n",
    "        self.nextNode = None\n"
   ]
  },
  {
   "cell_type": "code",
   "execution_count": 5,
   "metadata": {},
   "outputs": [],
   "source": [
    "class Temp(Node):\n",
    "    def __init__(self, valCelsius):\n",
    "        self.valCelsius = valCelsius\n",
    "        super().__init__() # So that next node attribute is initialize\n",
    "\n",
    "    def __eq__(self, otherNode):\n",
    "        if otherNode == None:\n",
    "            return False\n",
    "        else:\n",
    "            return self.valCelsius == otherNode.valCelsius\n",
    "\n",
    "    def __lt__(self, otherNode):\n",
    "        if otherNode == None:\n",
    "            raise TypeError(\n",
    "                \"'<' not supported between instances of 'Temp' and 'NoneType'\")\n",
    "        return self.valCelsius < otherNode.valCelsius\n",
    "\n",
    "    def __str__(self):\n",
    "        return f'{self.valCelsius}'\n"
   ]
  },
  {
   "cell_type": "code",
   "execution_count": 13,
   "metadata": {},
   "outputs": [],
   "source": [
    "class Point(Node):\n",
    "    def __init__(self, x, y):\n",
    "        self.x = x\n",
    "        self.y = y\n",
    "        super().__init__()  # So that next node attribute is initialize\n",
    "\n",
    "    def __eq__(self, otherNode):\n",
    "        if otherNode == None:\n",
    "            return False\n",
    "        else:\n",
    "            return self.x == otherNode.x and self.y == otherNode.y\n",
    "\n",
    "    def __lt__(self, otherNode):\n",
    "        if otherNode == None:\n",
    "            raise TypeError(\n",
    "                \"'<' not supported between instances of 'Point' and 'NoneType'\")\n",
    "        if self.x < otherNode.x:\n",
    "            return True\n",
    "        elif self.x == otherNode.x:\n",
    "            return self.y < otherNode.y \n",
    "        else:\n",
    "            return False\n",
    "\n",
    "    def __str__(self):\n",
    "        return f'({self.x},{self.y})'\n"
   ]
  },
  {
   "cell_type": "code",
   "execution_count": 14,
   "metadata": {},
   "outputs": [],
   "source": [
    "# SortedList class\n",
    "\n",
    "class SortedList:\n",
    "    def __init__(self):\n",
    "        # Pointer towards the first Node (currently nothing)\n",
    "        self.headNode = None\n",
    "        self.currentNode = None\n",
    "        self.length = 0  # Variable we manually keep track of number of Nodes in the list\n",
    "\n",
    "    def __appendToHead(self, newNode):\n",
    "        oldHeadNode = self.headNode\n",
    "        self.headNode = newNode\n",
    "        self.headNode.nextNode = oldHeadNode\n",
    "        self.length += 1\n",
    "\n",
    "    def insert(self, newNode):\n",
    "        self.length += 1\n",
    "        # If list is currently empty\n",
    "        if self.headNode == None:\n",
    "            self.headNode = newNode\n",
    "            return\n",
    "\n",
    "        # Check if it is going to be new head\n",
    "        if newNode < self.headNode:\n",
    "            self.__appendToHead(newNode)\n",
    "            return\n",
    "\n",
    "        # Check it is going to be inserted\n",
    "        # between any pair of Nodes (left, right)\n",
    "        leftNode = self.headNode\n",
    "        rightNode = self.headNode.nextNode\n",
    "        while rightNode != None:\n",
    "            if newNode < rightNode:\n",
    "                leftNode.nextNode = newNode\n",
    "                newNode.nextNode = rightNode\n",
    "                return\n",
    "            leftNode = rightNode\n",
    "            rightNode = rightNode.nextNode\n",
    "        # Once we reach here it must be added at the tail\n",
    "        # Beacuse newNode is largest than all the other nodes.\n",
    "        leftNode.nextNode = newNode\n",
    "\n",
    "    def __str__(self):\n",
    "        # We start at the head\n",
    "        output = \"\"\n",
    "        node = self.headNode\n",
    "        firstNode = True\n",
    "        while node != None:\n",
    "            if firstNode:\n",
    "                output = f\"'{node.__str__()}'\"\n",
    "                firstNode = False\n",
    "            else:\n",
    "                output += (', ' + f\"'{node.__str__()}'\")\n",
    "            node = node.nextNode\n",
    "        return output\n",
    "    \n",
    "\n",
    "\n",
    "    \n"
   ]
  },
  {
   "cell_type": "code",
   "execution_count": 15,
   "metadata": {},
   "outputs": [
    {
     "name": "stdout",
     "output_type": "stream",
     "text": [
      "'26.26', '27.76', '28.68', '33.48', '36.43', '37.39', '37.59', '37.74', '38.19', '38.52'\n"
     ]
    }
   ],
   "source": [
    "import random\n",
    "l = SortedList()\n",
    "maxNum = 10\n",
    "for i in range(0, maxNum):\n",
    "    l.insert(Temp(round(random.uniform(25.0, 40.0), 2)))\n",
    "print(l)\n"
   ]
  },
  {
   "cell_type": "code",
   "execution_count": 16,
   "metadata": {},
   "outputs": [
    {
     "name": "stdout",
     "output_type": "stream",
     "text": [
      "'(1,7)', '(2,2)', '(2,9)', '(3,2)', '(4,3)', '(5,9)', '(6,3)', '(6,6)', '(6,10)', '(7,7)'\n"
     ]
    }
   ],
   "source": [
    "l = SortedList()\n",
    "maxNum = 10\n",
    "for i in range(0, maxNum):\n",
    "    l.insert(Point(random.randint(1, maxNum),\n",
    "                   random.randint(1, maxNum)))\n",
    "print(l)\n"
   ]
  },
  {
   "cell_type": "code",
   "execution_count": 11,
   "metadata": {},
   "outputs": [
    {
     "name": "stdout",
     "output_type": "stream",
     "text": [
      "True\n",
      "False\n",
      "False\n",
      "False\n",
      "True\n",
      "False\n"
     ]
    }
   ],
   "source": [
    "# Test scripts\n",
    "t1 = Temp(34.6) \n",
    "t2 = Temp(38.0) \n",
    "t3 = Temp(37.5) \n",
    "t4 = Temp(34.6)\n",
    "print(t1 < t2) \n",
    "print(t2 < t1) \n",
    "print(t1 < t1)\n",
    "print(t1 == t2) \n",
    "print(t1 == t4) \n",
    "print(t1 == None)\n"
   ]
  }
 ],
 "metadata": {
  "interpreter": {
   "hash": "949777d72b0d2535278d3dc13498b2535136f6dfe0678499012e853ee9abcab1"
  },
  "kernelspec": {
   "display_name": "Python 3.9.5 64-bit",
   "language": "python",
   "name": "python3"
  },
  "language_info": {
   "codemirror_mode": {
    "name": "ipython",
    "version": 3
   },
   "file_extension": ".py",
   "mimetype": "text/x-python",
   "name": "python",
   "nbconvert_exporter": "python",
   "pygments_lexer": "ipython3",
   "version": "3.9.5"
  },
  "orig_nbformat": 4
 },
 "nbformat": 4,
 "nbformat_minor": 2
}
