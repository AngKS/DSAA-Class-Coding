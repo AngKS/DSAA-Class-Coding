{
 "cells": [
  {
   "cell_type": "markdown",
   "metadata": {},
   "source": [
    "# Unit 04: Sorting & Searching Algorithms"
   ]
  },
  {
   "cell_type": "markdown",
   "metadata": {},
   "source": [
    "## Topics:\n",
    "- Compare different searching algorithms (sequential, binary, hashing)\n",
    "- Compare arious sorting algorithms (bubble, merge, etc.)\n",
    "- Implement search & sort in Python"
   ]
  },
  {
   "cell_type": "markdown",
   "metadata": {},
   "source": [
    "## Searching Algorithm\n",
    "> Checks whether an item is present in a collection of items, then returns True/False accordingly.\n",
    "\n",
    "Python's built-in ```in``` operator used for searching; Complexity: $ O(n)$"
   ]
  },
  {
   "cell_type": "code",
   "execution_count": 4,
   "metadata": {},
   "outputs": [
    {
     "data": {
      "text/plain": [
       "True"
      ]
     },
     "execution_count": 4,
     "metadata": {},
     "output_type": "execute_result"
    },
    {
     "data": {
      "text/plain": [
       "False"
      ]
     },
     "execution_count": 4,
     "metadata": {},
     "output_type": "execute_result"
    }
   ],
   "source": [
    "prime_num = [2, 3, 5, 7, 11, 13, 17]\n",
    "7 in prime_num\n",
    "9 in prime_num"
   ]
  },
  {
   "cell_type": "markdown",
   "metadata": {},
   "source": [
    "Using Python's built-in ```.index()``` function for searching for index location of value in list"
   ]
  },
  {
   "cell_type": "code",
   "execution_count": 1,
   "metadata": {},
   "outputs": [
    {
     "name": "stdout",
     "output_type": "stream",
     "text": [
      "Invalid input\n",
      "Invalid input\n",
      "Invalid input\n",
      "Invalid input\n",
      "1 is not in the list\n"
     ]
    }
   ],
   "source": [
    "prime_numbers = [2, 3, 5, 7, 11, 13, 17, 19, 23, 29, 31, 37]\n",
    "\n",
    "while True:\n",
    "    try:\n",
    "        num = int(input(\"Give me a number: \"))\n",
    "        break\n",
    "    except ValueError:\n",
    "        print(\"Invalid input\")  \n",
    "\n",
    "try:\n",
    "    index = prime_numbers.index(num)\n",
    "except:\n",
    "    print(f\"{num} is not in the list\")\n",
    "else:\n",
    "    # Only executes when the try condition is successful.\n",
    "    print(f\"{num} is in the list at index {index}\")\n"
   ]
  },
  {
   "cell_type": "code",
   "execution_count": 3,
   "metadata": {},
   "outputs": [
    {
     "name": "stdout",
     "output_type": "stream",
     "text": [
      "First location of Mary is at index 1\n",
      "Second location of Mary is at index 3\n",
      "No third occurance of Mary\n"
     ]
    }
   ],
   "source": [
    "name_list = ['Johny', 'Mary', 'Gaby', 'Mary', 'Barry', 'Collin'] \n",
    "name = 'Mary'\n",
    "try:  # Look for first occurrence\n",
    "    index = name_list.index(name, 0)\n",
    "    print(f'First location of {name} is at index {index}')\n",
    "# ValueError: item is not in list print(f'No first occurance of {name}')\n",
    "except:\n",
    "    print(f'No first occurance of {name}')\n",
    "\n",
    "try:  # Look for second occurrence\n",
    "    index = name_list.index('Mary', index+1) \n",
    "    print(f'Second location of {name} is at index {index}')\n",
    "        # ValueError: item is not in list print(f'No second occurance of {name}')\n",
    "except:\n",
    "    print(f'No second occurance of {name}')\n",
    "    \n",
    "try:  # Look for third occurrence\n",
    "    index = name_list.index('Mary', index+1) \n",
    "    print(f'Third location of {name} is at index {index}')\n",
    "            # ValueError: item is not in list print(f'No third occurance of {name}')\n",
    "except:\n",
    "    print(f'No third occurance of {name}')\n"
   ]
  },
  {
   "cell_type": "markdown",
   "metadata": {},
   "source": [
    "## Lab 04 Task 01: Find all locations of the name in a name list"
   ]
  },
  {
   "cell_type": "code",
   "execution_count": 1,
   "metadata": {},
   "outputs": [],
   "source": [
    "nameList = ['Johny','Mary','Barry','Gaby','Mary','Barry',\n",
    "                'Collin','Mary']\n",
    "name= input(\"Input a Name: \")"
   ]
  },
  {
   "cell_type": "code",
   "execution_count": 5,
   "metadata": {},
   "outputs": [
    {
     "name": "stdout",
     "output_type": "stream",
     "text": [
      "Mary shows up at the following locations [1, 4, 7]\n"
     ]
    }
   ],
   "source": [
    "# Method 01\n",
    "def findLocationsOfName(name, nameList):\n",
    "    n = 0\n",
    "    pos = []\n",
    "    while True:\n",
    "        try:\n",
    "            index = nameList.index(name, n)\n",
    "            pos.append(index)\n",
    "        except:\n",
    "            break\n",
    "        n = index + 1\n",
    "    return pos\n",
    "           \n",
    "\n",
    "print(name,'shows up at the following locations', findLocationsOfName(name,nameList) )"
   ]
  },
  {
   "cell_type": "code",
   "execution_count": 4,
   "metadata": {},
   "outputs": [
    {
     "name": "stdout",
     "output_type": "stream",
     "text": [
      "Mary shows up at the following locations [1, 4, 7]\n"
     ]
    }
   ],
   "source": [
    "# Method 02\n",
    "def findLocationsOfName(name, nameList):\n",
    "    index = -1\n",
    "    index_list = []\n",
    "    while True:\n",
    "        try:\n",
    "            index = nameList.index(name, index+1)\n",
    "            index_list.append(index)            \n",
    "        except:\n",
    "            break\n",
    "\n",
    "    return index_list\n",
    "    \n",
    "print(name,'shows up at the following locations', findLocationsOfName(name,nameList) )"
   ]
  },
  {
   "cell_type": "markdown",
   "metadata": {},
   "source": [
    "### Sequential Search\n",
    "> A brute-force method for finding an element within a list.\n",
    "\n",
    "It sequentially checks each element of the list until a match is found (returns true) , or the completed list has been searched (returns false).\n",
    "\n",
    "A Sequential Search has a complexity of $O(n)$"
   ]
  },
  {
   "cell_type": "markdown",
   "metadata": {},
   "source": [
    "### Binary Search\n",
    "> A divide and conquer method for finding an item within a sorted list.\n",
    "\n",
    "It starts with checking the item midway. If that is the item to look for it stops. Else, as the list is sorted, it continues either looking at left hand or right hand side.\n",
    "\n",
    "A Binary Search Algorithm has a complexity of $log_2(n)$"
   ]
  },
  {
   "cell_type": "code",
   "execution_count": 7,
   "metadata": {},
   "outputs": [
    {
     "name": "stdout",
     "output_type": "stream",
     "text": [
      "False\n"
     ]
    }
   ],
   "source": [
    "def seachBinary(l, target): \n",
    "    midIndex = int(len(l) / 2) \n",
    "    while True:\n",
    "        if len(l) == 0:\n",
    "            return False\n",
    "        else:\n",
    "            if l[midIndex] == target:  # found it, we are done\n",
    "                return True\n",
    "            if l[midIndex] > target:\n",
    "                l = l[:midIndex]  # continue with left \n",
    "            else:\n",
    "                l = l[midIndex+1:]  # continue with right \n",
    "            midIndex = int (len(l) /2)\n",
    "        return False\n",
    "\n",
    "numList = [10, 20, 30, 40, 50, 60, 70]\n",
    "print(seachBinary(numList, 70))"
   ]
  },
  {
   "cell_type": "markdown",
   "metadata": {},
   "source": [
    "### Trace Table\n",
    "\n",
    "Search Binary([10, 20, 30, 40, 50, 60, 70], 70)\n",
    "| list | midIndex | list[midIndex] | Return Value |\n",
    "| --- | --- | --- | --- |\n",
    "| [10, 20, 30, 40, 50, 60, 70] | 3 | 40 | - |\n",
    "| [50, 60, 70] | 1 | 60 | - |\n",
    "| [70] | 0 | 70 | True |\n",
    "\n",
    "\n",
    "Search Binary([10, 20, 30, 40, 50, 60, 70], 15)\n",
    "| list | midIndex | list[midIndex] | Return Value |\n",
    "| --- | --- | --- | --- |\n",
    "| [10, 20, 30, 40, 50, 60, 70] | 3 | 40 | - |\n",
    "| [10, 20, 30] | 1 | 20 | - |\n",
    "| [10] | 0 | 10 | - |\n",
    "| [ ] | 0 | - | False |"
   ]
  },
  {
   "cell_type": "code",
   "execution_count": 9,
   "metadata": {},
   "outputs": [
    {
     "data": {
      "text/plain": [
       "3"
      ]
     },
     "execution_count": 9,
     "metadata": {},
     "output_type": "execute_result"
    }
   ],
   "source": [
    "# Calculate the number of times needed to iterate through a 7-item list to get the specific item using Binary Search\n",
    "import math\n",
    "\n",
    "math.ceil(math.log(7, 2))"
   ]
  },
  {
   "cell_type": "markdown",
   "metadata": {},
   "source": [
    "## Lab 04 Task 02: A recursive version of the Binary Search Function"
   ]
  },
  {
   "cell_type": "code",
   "execution_count": 10,
   "metadata": {},
   "outputs": [
    {
     "name": "stdout",
     "output_type": "stream",
     "text": [
      "TESTING FOR TRUE\n",
      "[2, 4, 8, 10, 20, 40, 100, 200, 350, 500] : 2 True\n",
      "[2, 4, 8, 10, 20, 40, 100, 200, 350, 500] : 4 True\n",
      "[2, 4, 8, 10, 20, 40, 100, 200, 350, 500] : 8 True\n",
      "[2, 4, 8, 10, 20, 40, 100, 200, 350, 500] : 10 True\n",
      "[2, 4, 8, 10, 20, 40, 100, 200, 350, 500] : 20 True\n",
      "[2, 4, 8, 10, 20, 40, 100, 200, 350, 500] : 40 True\n",
      "[2, 4, 8, 10, 20, 40, 100, 200, 350, 500] : 100 True\n",
      "[2, 4, 8, 10, 20, 40, 100, 200, 350, 500] : 200 True\n",
      "[2, 4, 8, 10, 20, 40, 100, 200, 350, 500] : 350 True\n",
      "[2, 4, 8, 10, 20, 40, 100, 200, 350, 500] : 500 True\n",
      "\n",
      "TESTING FOR FALSE\n",
      "[2, 4, 8, 10, 20, 40, 100, 200, 350, 500] : 1 False\n",
      "[2, 4, 8, 10, 20, 40, 100, 200, 350, 500] : 3 False\n",
      "[2, 4, 8, 10, 20, 40, 100, 200, 350, 500] : 7 False\n",
      "[2, 4, 8, 10, 20, 40, 100, 200, 350, 500] : 9 False\n",
      "[2, 4, 8, 10, 20, 40, 100, 200, 350, 500] : 19 False\n",
      "[2, 4, 8, 10, 20, 40, 100, 200, 350, 500] : 39 False\n",
      "[2, 4, 8, 10, 20, 40, 100, 200, 350, 500] : 99 False\n",
      "[2, 4, 8, 10, 20, 40, 100, 200, 350, 500] : 199 False\n",
      "[2, 4, 8, 10, 20, 40, 100, 200, 350, 500] : 349 False\n",
      "[2, 4, 8, 10, 20, 40, 100, 200, 350, 500] : 499 False\n"
     ]
    }
   ],
   "source": [
    "l = [2, 4, 8, 10, 20, 40, 100, 200, 350, 500]\n",
    "\n",
    "def binarySearch(l, target):\n",
    "    # use recursion\n",
    "    if len(l) == 0:\n",
    "        return False\n",
    "    else:\n",
    "        midIndex = int(len(l) / 2)\n",
    "        if l[midIndex] == target:\n",
    "            return True\n",
    "        elif l[midIndex] > target:\n",
    "            return binarySearch(l[:midIndex], target)\n",
    "        else:\n",
    "            return binarySearch(l[midIndex+1:], target)\n",
    "\n",
    "\n",
    "# Test all for True\n",
    "print('TESTING FOR TRUE')\n",
    "for i in l:\n",
    "    result = binarySearch(l,i)\n",
    "    print (l, \":\",i, result)\n",
    "# Test all for False\n",
    "print('\\nTESTING FOR FALSE')\n",
    "for i in l:\n",
    "    i-=1\n",
    "    result = binarySearch(l,i)\n",
    "    print (l, \":\",i, result)"
   ]
  },
  {
   "cell_type": "markdown",
   "metadata": {},
   "source": [
    "## Hash Tables\n"
   ]
  },
  {
   "cell_type": "markdown",
   "metadata": {},
   "source": [
    "A hash table is a data structure that map keys to values (Python's internal dictionary is implemented as a hash table)\n",
    "\n",
    "Hash Table Complexity is $O(1)$"
   ]
  },
  {
   "cell_type": "code",
   "execution_count": 27,
   "metadata": {},
   "outputs": [
    {
     "data": {
      "text/plain": [
       "3"
      ]
     },
     "execution_count": 27,
     "metadata": {},
     "output_type": "execute_result"
    }
   ],
   "source": [
    "def hashFunction(name=\"John Allen\"):\n",
    "    total = 0\n",
    "    for letter in name:\n",
    "        total += ord(letter)\n",
    "    return total % 7\n",
    "\n",
    "hashFunction(\"George Lucas\")"
   ]
  },
  {
   "cell_type": "code",
   "execution_count": 8,
   "metadata": {},
   "outputs": [],
   "source": [
    "class HashTable:\n",
    "    def __init__(self, size):\n",
    "        self.size = size\n",
    "        self.keys = [None] * self.size\n",
    "        self.buckets = [None] * self.size\n",
    "\n",
    "    def hash(self, key):\n",
    "        return key % self.size\n",
    "    \n",
    "    def rehash(self, key):\n",
    "        # Dealing with hash collision using means of linear probing with a 'plus 1' hash\n",
    "        # Wraparound formula to allow the hash to weap around back to index 0\n",
    "        return (key + 1) % self.size\n",
    "    \n",
    "    def __setitem__(self, key, value):\n",
    "        index = self.hash(key)\n",
    "        startIndex = index\n",
    "        while True:\n",
    "            # if bucket is empty, just use it\n",
    "            if self.buckets[index] == None:\n",
    "                self.buckets[index] = value\n",
    "                self.keys[index] = key\n",
    "                break\n",
    "            else:\n",
    "                # if the key matches, update the value\n",
    "                if self.keys[index] == key:\n",
    "                    self.buckets[index] = value\n",
    "                    break\n",
    "                # if the key doesn't match, check the next bucket\n",
    "                else:\n",
    "                    index = self.rehash(index)\n",
    "                    # if we've checked all the buckets, then we've hit a collision\n",
    "                    if index == startIndex:\n",
    "                        print(\"Hash table is full\")\n",
    "                        break\n",
    "    \n",
    "    def __getitem__(self, key):\n",
    "        index = self.hash(key)\n",
    "        startIndex = index\n",
    "        while True:\n",
    "            if self.keys[index] == key:\n",
    "                return self.buckets[index]\n",
    "            else:\n",
    "                index = self.rehash(index)\n",
    "                if index == startIndex:\n",
    "                    return None\n"
   ]
  },
  {
   "cell_type": "code",
   "execution_count": 5,
   "metadata": {},
   "outputs": [],
   "source": [
    "# Create a Student class\n",
    "\n",
    "class Student:\n",
    "    def __init__(self, name, age, course):\n",
    "        self.__name = name\n",
    "        self.__age = age\n",
    "        self.__course = course\n",
    "\n",
    "    def __str__(self):\n",
    "        txtBlock = \"-\" * 25 + \"\\n\"\n",
    "        txtBlock += f\"{'Name:':<10}{self.__name:>15}\\n\"\n",
    "        txtBlock += f\"{'Age:':<10}{self.__age:>15}\\n\"\n",
    "        txtBlock += f\"{'Course:':<10}{self.__course:>15}\\n\"\n",
    "        return txtBlock"
   ]
  },
  {
   "cell_type": "code",
   "execution_count": 9,
   "metadata": {},
   "outputs": [
    {
     "name": "stdout",
     "output_type": "stream",
     "text": [
      "id=1000\n",
      " -------------------------\n",
      "Name:             Rai Rao\n",
      "Age:                   19\n",
      "Course:              DISM\n",
      " \n",
      "\n",
      "id=1486\n",
      " -------------------------\n",
      "Name:            Liz Cruz\n",
      "Age:                   17\n",
      "Course:              DAAA\n",
      " \n",
      "\n",
      "id=2000\n",
      " -------------------------\n",
      "Name:           Adam Azis\n",
      "Age:                   18\n",
      "Course:              DAAA\n",
      " \n",
      "\n",
      "id=1488\n",
      " -------------------------\n",
      "Name:            John Tan\n",
      "Age:                   18\n",
      "Course:               DIT\n",
      " \n",
      "\n",
      "id=3001\n",
      " -------------------------\n",
      "Name:             Mary Oh\n",
      "Age:                   20\n",
      "Course:               DIT\n",
      " \n",
      "\n",
      "No student found with id=8888\n"
     ]
    }
   ],
   "source": [
    "studentTable = HashTable(7)\n",
    "\n",
    "studentTable[1488] = Student('John Tan', 18, 'DIT')\n",
    "studentTable[1486] = Student('Liz Cruz', 17, 'DAAA')\n",
    "studentTable[1000] = Student('Rai Rao', 19, 'DISM')\n",
    "studentTable[2000] = Student('Adam Azis', 18, 'DAAA')\n",
    "studentTable[3001] = Student('Mary Oh', 20, 'DIT')\n",
    "studentIDs = [1000, 1486, 2000, 1488, 3001, 8888]\n",
    "for id in studentIDs:\n",
    "    student = studentTable[id]\n",
    "    if student != None:\n",
    "        print(f'id={id}\\n', studentTable[id], '\\n')\n",
    "    else:\n",
    "        print(f'No student found with id={id}')\n"
   ]
  },
  {
   "cell_type": "markdown",
   "metadata": {},
   "source": [
    "## Bubble Sort\n",
    "\n",
    "\n",
    "#### Code:\n",
    "```python\n",
    "def bubbleSort(l):\n",
    "    isSorted = False # set to false to enter while loop\n",
    "    while not isSorted:\n",
    "        isSorted = True # assume everything is sorted until a swap happens\n",
    "        for i in range(len(l) - 1): # ends at 2nd last element to compare with the last element.\n",
    "            if l[i] > l[i+1]: # key comparison line\n",
    "                l[i], l[i+1] = l[i+1], l[i] # swapping takes place\n",
    "                isSorted = False\n",
    "\n",
    "```\n",
    "\n",
    "#### Sorting Trace Table\n",
    "\n",
    "| isSorted | i | l[0] | l[1] | l[2] | l[3] | l[4] |\n",
    "| --- | --- | --- | --- | --- | --- | --- |\n",
    "| False |  | 9 | 4 | 2 | 7 | 6 |\n",
    "| True | 0 | 4 | 9 | 2 | 7 | 6 |\n",
    "| False | 1 | 4 | 2 | 9 | 7 | 6 |\n",
    "| False | 2 | 4 | 2 | 7 | 9 | 6 |\n",
    "| False | 3 | 4 | 2 | 7 | 6 | 9 |\n",
    "| True | 0 | 2 | 4 | 7 | 6 | 9 |\n",
    "| False | 1 | 2 | 4 | 7 | 6 | 9 |\n",
    "| False | 2 | 2 | 4 | 7 | 6 | 9 |\n",
    "| False | 3 | 2 | 4 | 7 | 6 | 9 |\n",
    "| True | 0 | 2 | 4 | 6 | 7 | 9 |\n",
    "| False | 1 | 2 | 4 | 6 | 7 | 9 |\n"
   ]
  },
  {
   "cell_type": "markdown",
   "metadata": {},
   "source": [
    "## Merge Sort Algorithm\n",
    "\n",
    "Complexity: $O(n\\log(n))$"
   ]
  },
  {
   "cell_type": "markdown",
   "metadata": {},
   "source": [
    "| Array(l) | mid | leftHalf | rightHalf | leftIndex | rightIndex | mergeIndex |\n",
    "| :--: | :--: | :--: | :--: | :--: | :--: | :--: |\n",
    "| [9, 4, 2, 6] | "
   ]
  },
  {
   "cell_type": "code",
   "execution_count": 5,
   "metadata": {},
   "outputs": [],
   "source": [
    "def mergeSort(l):\n",
    "\n",
    "    if len(l)> 1:\n",
    "        mid = len(l)//2\n",
    "        left = l[:mid]\n",
    "        right = l[mid:]\n",
    "\n",
    "        mergeSort(left)\n",
    "        mergeSort(right)\n",
    "\n",
    "        leftIndex, rightIndex, sortedIndex = 0, 0, 0\n",
    "\n",
    "        mergeList = l\n",
    "        while leftIndex < len(left) and rightIndex < len(right):\n",
    "            if left[leftIndex] < right[rightIndex]:\n",
    "                mergeList[sortedIndex] = left[leftIndex]\n",
    "                leftIndex += 1\n",
    "            else:\n",
    "                mergeList[sortedIndex] = right[rightIndex]\n",
    "                rightIndex += 1\n",
    "            sortedIndex += 1\n",
    "\n",
    "        while leftIndex < len(left):\n",
    "            mergeList[sortedIndex] = left[leftIndex]\n",
    "            leftIndex += 1\n",
    "            sortedIndex += 1\n",
    "        \n",
    "        while rightIndex < len(right):\n",
    "            mergeList[sortedIndex] = right[rightIndex]\n",
    "            rightIndex += 1\n",
    "            sortedIndex += 1\n",
    "    \n",
    "        return mergeList"
   ]
  },
  {
   "cell_type": "code",
   "execution_count": 6,
   "metadata": {},
   "outputs": [
    {
     "name": "stdout",
     "output_type": "stream",
     "text": [
      "[1, 2, 3, 4, 5, 6]\n"
     ]
    }
   ],
   "source": [
    "print(mergeSort([2, 3, 1, 5, 4, 6]))"
   ]
  },
  {
   "cell_type": "code",
   "execution_count": null,
   "metadata": {},
   "outputs": [],
   "source": []
  }
 ],
 "metadata": {
  "interpreter": {
   "hash": "ed5e66bbe5399ecd4717cfac6c5f1a143ef084e323fe8aa2d4d29bf9978f5d21"
  },
  "kernelspec": {
   "display_name": "Python 3.9.5 64-bit ('base': conda)",
   "language": "python",
   "name": "python3"
  },
  "language_info": {
   "codemirror_mode": {
    "name": "ipython",
    "version": 3
   },
   "file_extension": ".py",
   "mimetype": "text/x-python",
   "name": "python",
   "nbconvert_exporter": "python",
   "pygments_lexer": "ipython3",
   "version": "3.9.5"
  },
  "orig_nbformat": 4
 },
 "nbformat": 4,
 "nbformat_minor": 2
}
