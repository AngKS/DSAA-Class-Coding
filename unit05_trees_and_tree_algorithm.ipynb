{
 "cells": [
  {
   "cell_type": "markdown",
   "metadata": {},
   "source": [
    "# Unit 05: Trees & Tree Algorithms"
   ]
  },
  {
   "cell_type": "markdown",
   "metadata": {},
   "source": [
    "**Binary Tree** - Trees where nodes are connected with 2 children nodes.\n",
    "\n",
    "**Leaf Nodes** - Nodes on a tree that does not have any children.\n",
    "\n",
    "**Sibling Nodes** - Nodes that share the same parent Node.\n",
    "\n",
    "**Parent Node** - Node with outgoing edge\n",
    "\n",
    "**Child Node** - Node with incoming edge\n",
    "\n",
    "**Root Node** - The top-most node\n",
    "\n",
    "In tree algorithms, the pointers goes in a one-way direction (hierarchical structure).\n"
   ]
  },
  {
   "cell_type": "code",
   "execution_count": 1,
   "metadata": {},
   "outputs": [],
   "source": [
    "import random"
   ]
  },
  {
   "cell_type": "code",
   "execution_count": 2,
   "metadata": {},
   "outputs": [],
   "source": [
    "# createing a binary tree class\n",
    "\n",
    "class BinaryTree:\n",
    "    def __init__(self, key, leftTree= None, rightTree= None):\n",
    "        self.key = key\n",
    "        self.leftTree = leftTree\n",
    "        self.rightTree = rightTree\n",
    "    \n",
    "    def setKey(self, key):\n",
    "        self.key = key\n",
    "    \n",
    "    def getKey(self):\n",
    "        return self.key\n",
    "    \n",
    "    def getLeftTree(self):\n",
    "        return self.leftTree\n",
    "    \n",
    "    def getRightTree(self):\n",
    "        return self.rightTree\n",
    "    \n",
    "    def insertLeft(self, key):\n",
    "        if self.leftTree == None:\n",
    "            self.leftTree = BinaryTree(key)\n",
    "        else:\n",
    "            t = BinaryTree(key)\n",
    "            self.leftTree, t.leftTree = t, self.leftTree\n",
    "    \n",
    "    def insertRight(self, key):\n",
    "        if self.rightTree == None:\n",
    "            self.rightTree = BinaryTree(key)\n",
    "        else:\n",
    "            t = BinaryTree(key)\n",
    "            self.rightTree, t.rightTree = t, self.rightTree\n",
    "    \n",
    "    def printPreorder(self, level):\n",
    "        # Node\n",
    "        print(str(level*\"-\") + str(self.key))\n",
    "        # Left\n",
    "        if self.leftTree != None:\n",
    "            self.leftTree.printPreorder(level + 1)\n",
    "        # Right\n",
    "        if self.rightTree != None:\n",
    "            self.rightTree.printPreorder(level + 1)\n",
    "\n",
    "    # print inorder traversal\n",
    "    def printInorder(self, level, symbol='-'):\n",
    "        # Left\n",
    "        if self.leftTree != None:\n",
    "            self.leftTree.printInorder(level + 1)\n",
    "        # Node\n",
    "        print(str(level*f\"{symbol}\") + str(self.key))\n",
    "        # Right\n",
    "        if self.rightTree != None:\n",
    "            self.rightTree.printInorder(level + 1)\n",
    "    \n",
    "    def __str__(self):\n",
    "        \n",
    "        return str(self.key)\n",
    "\n"
   ]
  },
  {
   "cell_type": "markdown",
   "metadata": {},
   "source": [
    "## Test Code"
   ]
  },
  {
   "cell_type": "code",
   "execution_count": 3,
   "metadata": {},
   "outputs": [
    {
     "name": "stdout",
     "output_type": "stream",
     "text": [
      "Contents\n",
      "-Chapter 1\n",
      "--Section 1.1\n",
      "--Section 1.2\n",
      "---Section 1.2.1\n",
      "-Chapter 2\n",
      "--Section 2.1\n",
      "--Section 2.2\n",
      "---Section 2.2.1\n",
      "---Section 2.2.2\n"
     ]
    }
   ],
   "source": [
    "leftTree = BinaryTree(\n",
    "    'Chapter 1', \n",
    "    BinaryTree('Section 1.1'),\n",
    "    BinaryTree('Section 1.2', \n",
    "    BinaryTree('Section 1.2.1'),\n",
    "    None))\n",
    "rightTree = BinaryTree(\n",
    "    'Chapter 2', \n",
    "    BinaryTree('Section 2.1'),\n",
    "    BinaryTree('Section 2.2', \n",
    "    BinaryTree('Section 2.2.1'),\n",
    "    BinaryTree('Section 2.2.2')))\n",
    "    \n",
    "tree = BinaryTree('Contents', leftTree, rightTree) \n",
    "tree.printPreorder(0)\n"
   ]
  },
  {
   "cell_type": "code",
   "execution_count": 4,
   "metadata": {},
   "outputs": [
    {
     "name": "stdout",
     "output_type": "stream",
     "text": [
      "Contents\n",
      "-Chapter 1\n",
      "--Section 1.1\n",
      "---Section 1.1.1\n",
      "--Section 1.2\n",
      "---Section 1.2.1\n",
      "-Chapter 2\n",
      "--Section 2.1\n",
      "--Section 2.2\n",
      "---Section 2.2.1\n",
      "---Section 2.2.2\n"
     ]
    }
   ],
   "source": [
    "# add section 1.1.1\n",
    "tree.getLeftTree().getLeftTree().insertLeft('Section 1.1.1')\n",
    "tree.printPreorder(0)\n"
   ]
  },
  {
   "cell_type": "code",
   "execution_count": 5,
   "metadata": {},
   "outputs": [
    {
     "name": "stdout",
     "output_type": "stream",
     "text": [
      "Contents\n",
      "-introduction\n",
      "--Chapter 1\n",
      "---Section 1.1\n",
      "----Section 1.1.1\n",
      "---Section 1.2\n",
      "----Section 1.2.1\n",
      "-Chapter 2\n",
      "--Section 2.1\n",
      "--Section 2.2\n",
      "---Section 2.2.1\n",
      "---Section 2.2.2\n"
     ]
    }
   ],
   "source": [
    "# insert \"introduction\" between \"contents\" and 'chapter 1'\n",
    "tree.insertLeft('introduction')\n",
    "tree.printPreorder(0)"
   ]
  },
  {
   "cell_type": "markdown",
   "metadata": {},
   "source": [
    "#### Pre-Order Traversal:\n",
    "\n",
    "Formulae: Node -> Left -> Right\n",
    "\n",
    "#### In-Order Traersal:\n",
    "\n",
    "Formulae : Left -> Node -> Right\n",
    "\n",
    "#### Post-Order Traversal:\n",
    "\n",
    "Forumlae: Left -> Right -> Node"
   ]
  },
  {
   "cell_type": "markdown",
   "metadata": {},
   "source": [
    "## Parse Trees"
   ]
  },
  {
   "cell_type": "code",
   "execution_count": 6,
   "metadata": {},
   "outputs": [],
   "source": [
    "class Stack:\n",
    "    def __init__(self):\n",
    "        self.__list = []\n",
    "\n",
    "    def isEmpty(self):\n",
    "        return self.__list == []\n",
    "\n",
    "    def size(self):\n",
    "        return len(self.__list)\n",
    "\n",
    "    def clear(self):\n",
    "        self.__list.clear()\n",
    "\n",
    "    def push(self, item):\n",
    "        self.__list.append(item)\n",
    "\n",
    "    def pop(self):\n",
    "        if self.isEmpty():\n",
    "            return None\n",
    "        else:\n",
    "            return self.__list.pop()\n",
    "\n",
    "    def get(self):\n",
    "        if self.isEmpty():\n",
    "            return None\n",
    "        else:\n",
    "            return self.__list[-1]\n",
    "\n",
    "    def __str__(self):\n",
    "        output = '<'\n",
    "        for i in range(len(self.__list)):\n",
    "            item = self.__list[i]\n",
    "            # condition used to avoid printing the last comma\n",
    "            if i < len(self.__list)-1:\n",
    "                output += f'{str(item)}, '\n",
    "            else:\n",
    "                output += f'{str(item)}'\n",
    "        output += '>'\n",
    "        return output\n"
   ]
  },
  {
   "cell_type": "code",
   "execution_count": 7,
   "metadata": {},
   "outputs": [
    {
     "ename": "ValueError",
     "evalue": "empty separator",
     "output_type": "error",
     "traceback": [
      "\u001b[0;31m---------------------------------------------------------------------------\u001b[0m",
      "\u001b[0;31mValueError\u001b[0m                                Traceback (most recent call last)",
      "\u001b[0;32m/var/folders/jr/017d8q8145z52wbhxmqqxxkc0000gn/T/ipykernel_7089/3924062606.py\u001b[0m in \u001b[0;36m<module>\u001b[0;34m\u001b[0m\n\u001b[1;32m      1\u001b[0m \u001b[0mexp\u001b[0m \u001b[0;34m=\u001b[0m \u001b[0;34m'(((1+2)*3)+4)*5'\u001b[0m\u001b[0;34m\u001b[0m\u001b[0;34m\u001b[0m\u001b[0m\n\u001b[0;32m----> 2\u001b[0;31m \u001b[0mexp\u001b[0m\u001b[0;34m.\u001b[0m\u001b[0msplit\u001b[0m\u001b[0;34m(\u001b[0m\u001b[0;34m''\u001b[0m\u001b[0;34m)\u001b[0m\u001b[0;34m\u001b[0m\u001b[0;34m\u001b[0m\u001b[0m\n\u001b[0m",
      "\u001b[0;31mValueError\u001b[0m: empty separator"
     ]
    }
   ],
   "source": [
    "exp = '(((1+2)*3)+4)*5'\n",
    "exp.split('')"
   ]
  },
  {
   "cell_type": "code",
   "execution_count": null,
   "metadata": {},
   "outputs": [],
   "source": [
    "def buildParseTree(exp):\n",
    "    tokens = exp.split()\n",
    "    stack = Stack()\n",
    "    tree = BinaryTree('?')\n",
    "    stack.push(tree)\n",
    "\n",
    "    curr_tree = tree\n",
    "\n",
    "    for token in tokens:\n",
    "\n",
    "        # rule 01: if token is '(', add new node to left child and descend to that node\n",
    "        if token == '(':\n",
    "            curr_tree.insertLeft('?')\n",
    "            stack.push(curr_tree)\n",
    "            curr_tree = curr_tree.getLeftTree()\n",
    "        \n",
    "        # rule 02: if token is operators, set key of current node to the operator and add a new node to the right and descent to the child\n",
    "        elif token in ['+', '-', '*', '/']:\n",
    "            curr_tree.setKey(token)\n",
    "            curr_tree.insertRight('?')\n",
    "            stack.push(curr_tree)\n",
    "            curr_tree = curr_tree.getRightTree()\n",
    "        \n",
    "        # rule 03: if token is number, set key of current node to the number and rturn to parent\n",
    "        elif token not in ['+', '-', '*', '/', ')']:\n",
    "            curr_tree.setKey(int(token))\n",
    "            parent = stack.pop()\n",
    "            curr_tree = parent\n",
    "        \n",
    "        # rule 04: if token is ')', return to parent\n",
    "        elif token == ')':\n",
    "            curr_tree = stack.pop()\n",
    "        \n",
    "        else:\n",
    "            raise ValueError\n",
    "    return tree\n"
   ]
  },
  {
   "cell_type": "code",
   "execution_count": null,
   "metadata": {},
   "outputs": [],
   "source": [
    "def evaluate(tree):\n",
    "\n",
    "    leftTree = tree.getLeftTree()\n",
    "    rightTree = tree.getRightTree()\n",
    "    op = tree.getKey()\n",
    "    print(op, leftTree, rightTree)\n",
    "    if leftTree != None and rightTree != None:\n",
    "        \n",
    "        if op == '+':\n",
    "            return evaluate(leftTree) + evaluate(rightTree)\n",
    "        elif op == '-':\n",
    "            return evaluate(leftTree) - evaluate(rightTree)\n",
    "        elif op == '*':\n",
    "            return evaluate(leftTree) * evaluate(rightTree)\n",
    "        elif op == '/':\n",
    "            return evaluate(leftTree) / evaluate(rightTree)\n",
    "    else:\n",
    "        return tree.getKey()"
   ]
  },
  {
   "cell_type": "code",
   "execution_count": null,
   "metadata": {},
   "outputs": [
    {
     "data": {
      "text/plain": [
       "['(', '2', '+', '(', '4', '*', '5', ')', ')']"
      ]
     },
     "execution_count": 6,
     "metadata": {},
     "output_type": "execute_result"
    }
   ],
   "source": [
    "exp = '( 2 + ( 4 * 5 ) )'\n",
    "exp.split()"
   ]
  },
  {
   "cell_type": "code",
   "execution_count": null,
   "metadata": {},
   "outputs": [
    {
     "data": {
      "text/plain": [
       "['(', '(', '80', '+', '5', ')', '+', '4', ')']"
      ]
     },
     "execution_count": 10,
     "metadata": {},
     "output_type": "execute_result"
    },
    {
     "name": "stdout",
     "output_type": "stream",
     "text": [
      "+\n",
      "-+\n",
      "--80\n",
      "--5\n",
      "-4\n",
      "+ + 4\n",
      "+ 80 5\n",
      "80 None None\n",
      "5 None None\n",
      "4 None None\n",
      "The expression: ( ( 80 + 5 ) + 4 ) evaluates to: 89\n"
     ]
    }
   ],
   "source": [
    "exp = '( ( 80 + 5 ) + 4 )'\n",
    "exp.split()\n",
    "tree = buildParseTree(exp)\n",
    "tree.printPreorder(0)\n",
    "print(f'The expression: {exp} evaluates to: {evaluate(tree)}')\n"
   ]
  },
  {
   "cell_type": "code",
   "execution_count": null,
   "metadata": {},
   "outputs": [
    {
     "name": "stdout",
     "output_type": "stream",
     "text": [
      "|2\n",
      "-\n",
      "||8\n",
      "|*\n",
      "|||4\n",
      "||/\n",
      "|||2\n",
      "||||3\n",
      "The expression: ( 2 + 3 ) - ( 8 * ( 4 / 2 ) ) ) evaluates to: -14.0\n"
     ]
    }
   ],
   "source": [
    "exp = '( 2 + 3 ) - ( 8 * ( 4 / 2 ) ) )'\n",
    "tree = buildParseTree(exp)\n",
    "tree.printInorder(0)\n",
    "print(f'The expression: {exp} evaluates to: {evaluate(tree)}')"
   ]
  },
  {
   "cell_type": "code",
   "execution_count": null,
   "metadata": {},
   "outputs": [],
   "source": [
    "class EqnParser:\n",
    "    def __init__(self, expression):\n",
    "        self.expression = expression\n",
    "        self.operators = ['+', '-', '*', '/']\n",
    "        self.parenthesis = ['(', ')']\n",
    "        self.exp_list = []\n",
    "\n",
    "    def parseOperator(self, token, operator=None):\n",
    "\n",
    "        if operator == None:\n",
    "            if token in self.operators:\n",
    "                return True\n",
    "            else:\n",
    "                return False\n",
    "        else:\n",
    "            if token == operator:\n",
    "                return True\n",
    "            else:\n",
    "                return False\n",
    "    \n",
    "    def parseParenthesis(self, token):\n",
    "        if token in self.parenthesis:\n",
    "            return True\n",
    "        else:\n",
    "            return False\n",
    "    \n",
    "    def parseDigits(self, values):\n",
    "        value = \"\"\n",
    "        indices = []\n",
    "        for val in len(values):\n",
    "            if values(val).isdigit():\n",
    "                value += values(val)\n",
    "                indices.append(val)\n",
    "            else:\n",
    "                break\n",
    "        return value, indices\n",
    "\n",
    "\n",
    "    \n",
    "    def parse(self):\n",
    "        # check if the expression contains space\n",
    "        if ' ' in self.expression:\n",
    "            return self.expression.split(' ')\n",
    "        else:\n",
    "            for i in range(len(self.expression)):\n",
    "                if self.parseOperator(self.expression[i]):\n",
    "                    \n",
    "                    # check to see if it is a negative number\n",
    "                    if self.parseOperator(self.expression[i], '-'):\n",
    "                        temp_exp = self.expression[i: ]\n",
    "                        negDigits = self.parseDigits(temp_exp)\n",
    "                        self.exp_list.append(-negDigits)\n",
    "                    \n",
    "                    self.exp_list.append(self.expression[i])\n",
    "\n",
    "                elif self.parseParenthesis(self.expression[i]):\n",
    "                    self.exp_list.append(self.expression[i])\n",
    "\n",
    "                elif self.expression[i].isdigit():\n",
    "                    value = self.parseDigits(self.expression[i:])\n",
    "                    self.exp_list.append(value)\n",
    "                else:\n",
    "                    continue\n",
    "\n",
    "\n",
    "    def reParse(self):\n",
    "        expression = [char for char in self.expression]\n",
    "        print(expression)\n",
    "        if ' ' in expression:\n",
    "            #remove all ' '\n",
    "            return expression\n",
    "        \n",
    "        for val in range(len(expression)):\n",
    "            if expression[val] in self.operators:\n",
    "                \n",
    "       \n"
   ]
  },
  {
   "cell_type": "code",
   "execution_count": null,
   "metadata": {},
   "outputs": [
    {
     "name": "stdout",
     "output_type": "stream",
     "text": [
      "(2+(4*5))\n",
      "   [+]\n",
      "  /    \\\n",
      "(2)     [*]\n",
      "       /    \\\n",
      "     (4)    (5)\n",
      "\n"
     ]
    }
   ],
   "source": [
    "\n",
    "exp_string = '''(2+(4*5))\n",
    "   [+]\n",
    "  /    \\\\\n",
    "(2)     [*]\n",
    "       /    \\\\\n",
    "     (4)    (5)\n",
    "'''\n"
   ]
  },
  {
   "cell_type": "markdown",
   "metadata": {},
   "source": [
    "## Binary Search Tree (BST)\n",
    "\n",
    "Complexity: $ O(\\log_2(n)) $"
   ]
  },
  {
   "cell_type": "code",
   "execution_count": null,
   "metadata": {},
   "outputs": [
    {
     "data": {
      "text/plain": [
       "[15, 41, 42, 33, 34, 3, 24, 48, 33, 7]"
      ]
     },
     "execution_count": 104,
     "metadata": {},
     "output_type": "execute_result"
    }
   ],
   "source": [
    "import random\n",
    "\n",
    "arr1 = [random.randint(1, 50) for i in range(10)]\n",
    "arr1"
   ]
  },
  {
   "cell_type": "markdown",
   "metadata": {},
   "source": [
    "By picking a good root node, we will be able to create a balanced Binary Tree."
   ]
  },
  {
   "cell_type": "code",
   "execution_count": null,
   "metadata": {},
   "outputs": [],
   "source": [
    "class BinarySearchTree(BinaryTree):\n",
    "    \n",
    "    def add(self, key):\n",
    "        currNode = self\n",
    "        while True:\n",
    "            if key < currNode.key:\n",
    "                if currNode.leftTree == None:\n",
    "                    currNode.leftTree = BinarySearchTree(key)\n",
    "                    break\n",
    "                else:\n",
    "                    currNode = currNode.leftTree\n",
    "            elif key > currNode.key:\n",
    "                if currNode.rightTree == None:\n",
    "                    currNode.rightTree = BinarySearchTree(key)\n",
    "                    break\n",
    "                else:\n",
    "                    currNode = currNode.rightTree\n",
    "    \n",
    "    def __contains__(self, key):\n",
    "        # use in-order traversal to check if the key is in the tree\n",
    "        currNode = self\n",
    "        while currNode != None:\n",
    "            if key < currNode.key:\n",
    "                currNode = currNode.leftTree\n",
    "            elif key > currNode.key:\n",
    "                currNode = currNode.rightTree\n",
    "            else:\n",
    "                return True\n",
    "        return False\n",
    "    \n",
    "    def contains(self, searchKey):\n",
    "\n",
    "        curNode = self\n",
    "        while True:\n",
    "            # check left\n",
    "            if curNode.getKey() == searchKey:\n",
    "                return True\n",
    "            elif searchKey < curNode.getKey():\n",
    "                # check left\n",
    "                if curNode.getLeftTree() == None:\n",
    "                    return False\n",
    "                else:\n",
    "                    curNode = curNode.getLeftTree()\n",
    "            else:  # >\n",
    "                # check right\n",
    "                if curNode.getRightTree() == None:\n",
    "                    return False\n",
    "                else:\n",
    "                    curNode = curNode.getRightTree()\n",
    "        \n",
    "\n",
    "\n"
   ]
  },
  {
   "cell_type": "code",
   "execution_count": null,
   "metadata": {},
   "outputs": [
    {
     "name": "stdout",
     "output_type": "stream",
     "text": [
      "<__main__.BinarySearchTree object at 0x7f934d015b80>\n",
      "False\n"
     ]
    }
   ],
   "source": [
    "tree = BinarySearchTree(55)\n",
    "\n",
    "for i in range(5):\n",
    "    tree.add(random.randint(1, 50))\n",
    "print(tree)\n",
    "print(30 in tree)\n"
   ]
  },
  {
   "cell_type": "markdown",
   "metadata": {},
   "source": [
    "## Implementing BST using a 'squeeze-between' method"
   ]
  },
  {
   "cell_type": "code",
   "execution_count": null,
   "metadata": {},
   "outputs": [],
   "source": [
    "class BST(BinaryTree):\n",
    "\n",
    "    def add(self, key):\n",
    "        currNode = self\n",
    "        while True:\n",
    "            if key < currNode.getKey():\n",
    "                # if key < currNode's key,\n",
    "                ## If the currNode doesn't have left OR key is > CurrNode's left key\n",
    "                ### Insert left\n",
    "                if currNode.getLeftTree() == None or key > currNode.getLeftTree().getKey():\n",
    "                    currNode.insertLeft(key)\n",
    "                    break\n",
    "                else:\n",
    "                    currNode = currNode.getLeftTree()\n",
    "            \n",
    "            else:\n",
    "                # if key > currNode's key,\n",
    "                ## If the currNode doesn't have right OR key is < CurrNode's right key\n",
    "                ### Insert right\n",
    "                if currNode.getRightTree() == None or key < currNode.getRightTree().getKey():\n",
    "                    currNode.insertRight(key)\n",
    "                    break\n",
    "                else:\n",
    "                    currNode = currNode.getRightTree()\n",
    "\n",
    "        "
   ]
  },
  {
   "cell_type": "code",
   "execution_count": null,
   "metadata": {},
   "outputs": [
    {
     "name": "stdout",
     "output_type": "stream",
     "text": [
      "----13\n",
      "-----13\n",
      "---19\n",
      "--35\n",
      "-47\n",
      "55\n",
      "None\n"
     ]
    }
   ],
   "source": [
    "tree = BST(55)\n",
    "\n",
    "for i in range(5):\n",
    "    tree.add(random.randint(1, 50))\n",
    "print(tree.printInorder(0))\n",
    "# print(30 in tree)\n"
   ]
  },
  {
   "cell_type": "code",
   "execution_count": null,
   "metadata": {},
   "outputs": [],
   "source": []
  }
 ],
 "metadata": {
  "interpreter": {
   "hash": "ed5e66bbe5399ecd4717cfac6c5f1a143ef084e323fe8aa2d4d29bf9978f5d21"
  },
  "kernelspec": {
   "display_name": "Python 3.9.5 64-bit ('base': conda)",
   "language": "python",
   "name": "python3"
  },
  "language_info": {
   "codemirror_mode": {
    "name": "ipython",
    "version": 3
   },
   "file_extension": ".py",
   "mimetype": "text/x-python",
   "name": "python",
   "nbconvert_exporter": "python",
   "pygments_lexer": "ipython3",
   "version": "3.9.5"
  },
  "orig_nbformat": 4
 },
 "nbformat": 4,
 "nbformat_minor": 2
}
