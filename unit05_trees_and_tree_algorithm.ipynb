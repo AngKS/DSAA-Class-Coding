{
 "cells": [
  {
   "cell_type": "markdown",
   "metadata": {},
   "source": [
    "# Unit 05: Trees & Tree Algorithms"
   ]
  },
  {
   "cell_type": "markdown",
   "metadata": {},
   "source": [
    "**Binary Tree** - Trees where nodes are connected with 2 children nodes.\n",
    "\n",
    "**Leaf Nodes** - Nodes on a tree that does not have any children.\n",
    "\n",
    "**Sibling Nodes** - Nodes that share the same parent Node.\n",
    "\n",
    "**Parent Node** - Node with outgoing edge\n",
    "\n",
    "**Child Node** - Node with incoming edge\n",
    "\n",
    "**Root Node** - The top-most node\n",
    "\n",
    "In tree algorithms, the pointers goes in a one-way direction (hierarchical structure).\n"
   ]
  },
  {
   "cell_type": "code",
   "execution_count": null,
   "metadata": {},
   "outputs": [],
   "source": [
    "import random"
   ]
  },
  {
   "cell_type": "code",
   "execution_count": 8,
   "metadata": {},
   "outputs": [],
   "source": [
    "# createing a binary tree class\n",
    "\n",
    "class BinaryTree:\n",
    "    def __init__(self, key, leftTree= None, rightTree= None):\n",
    "        self.key = key\n",
    "        self.leftTree = leftTree\n",
    "        self.rightTree = rightTree\n",
    "    \n",
    "    def setKey(self, key):\n",
    "        self.key = key\n",
    "    \n",
    "    def getKey(self):\n",
    "        return self.key\n",
    "    \n",
    "    def getLeftTree(self):\n",
    "        return self.leftTree\n",
    "    \n",
    "    def getRightTree(self):\n",
    "        return self.rightTree\n",
    "    \n",
    "    def insertLeft(self, key):\n",
    "        if self.leftTree == None:\n",
    "            self.leftTree = BinaryTree(key)\n",
    "        else:\n",
    "            t = BinaryTree(key)\n",
    "            self.leftTree, t.leftTree = t, self.leftTree\n",
    "    \n",
    "    def insertRight(self, key):\n",
    "        if self.rightTree == None:\n",
    "            self.rightTree = BinaryTree(key)\n",
    "        else:\n",
    "            t = BinaryTree(key)\n",
    "            self.rightTree, t.rightTree = t, self.rightTree\n",
    "    \n",
    "    def printPreorder(self, level):\n",
    "        # Node\n",
    "        print(str(level*\"-\") + str(self.key))\n",
    "        # Left\n",
    "        if self.leftTree != None:\n",
    "            self.leftTree.printPreorder(level + 1)\n",
    "        # Right\n",
    "        if self.rightTree != None:\n",
    "            self.rightTree.printPreorder(level + 1)\n"
   ]
  },
  {
   "cell_type": "code",
   "execution_count": 13,
   "metadata": {},
   "outputs": [
    {
     "name": "stdout",
     "output_type": "stream",
     "text": [
      "Contents\n",
      "-Chapter 1\n",
      "--Section 1.1\n",
      "--Section 1.2\n",
      "---Section 1.2.1\n",
      "-Chapter 2\n",
      "--Section 2.1\n",
      "--Section 2.2\n",
      "---Section 2.2.1\n",
      "---Section 2.2.2\n"
     ]
    }
   ],
   "source": [
    "leftTree = BinaryTree(\n",
    "    'Chapter 1', \n",
    "    BinaryTree('Section 1.1'),\n",
    "    BinaryTree('Section 1.2', \n",
    "    BinaryTree('Section 1.2.1'),\n",
    "    None))\n",
    "rightTree = BinaryTree(\n",
    "    'Chapter 2', \n",
    "    BinaryTree('Section 2.1'),\n",
    "    BinaryTree('Section 2.2', \n",
    "    BinaryTree('Section 2.2.1'),\n",
    "    BinaryTree('Section 2.2.2')))\n",
    "    \n",
    "tree = BinaryTree('Contents', leftTree, rightTree) \n",
    "tree.printPreorder(0)\n"
   ]
  },
  {
   "cell_type": "code",
   "execution_count": 14,
   "metadata": {},
   "outputs": [
    {
     "name": "stdout",
     "output_type": "stream",
     "text": [
      "Contents\n",
      "-Chapter 1\n",
      "--Section 1.1\n",
      "---Section 1.1.1\n",
      "--Section 1.2\n",
      "---Section 1.2.1\n",
      "-Chapter 2\n",
      "--Section 2.1\n",
      "--Section 2.2\n",
      "---Section 2.2.1\n",
      "---Section 2.2.2\n"
     ]
    }
   ],
   "source": [
    "# add section 1.1.1\n",
    "tree.getLeftTree().getLeftTree().insertLeft('Section 1.1.1')\n",
    "tree.printPreorder(0)\n"
   ]
  },
  {
   "cell_type": "code",
   "execution_count": 15,
   "metadata": {},
   "outputs": [
    {
     "name": "stdout",
     "output_type": "stream",
     "text": [
      "Contents\n",
      "-introduction\n",
      "--Chapter 1\n",
      "---Section 1.1\n",
      "----Section 1.1.1\n",
      "---Section 1.2\n",
      "----Section 1.2.1\n",
      "-Chapter 2\n",
      "--Section 2.1\n",
      "--Section 2.2\n",
      "---Section 2.2.1\n",
      "---Section 2.2.2\n"
     ]
    }
   ],
   "source": [
    "# insert \"introduction\" between \"contents\" and 'chapter 1'\n",
    "tree.insertLeft('introduction')\n",
    "tree.printPreorder(0)"
   ]
  },
  {
   "cell_type": "markdown",
   "metadata": {},
   "source": [
    "#### Pre-Order Traversal:\n",
    "\n",
    "Formulae: Node -> Left -> Right\n",
    "\n",
    "#### In-Order Traersal:\n",
    "\n",
    "Formulae : Left -> Node -> Right\n",
    "\n",
    "#### Post-Order Traversal:\n",
    "\n",
    "Forumlae: Left -> Right -> Node"
   ]
  },
  {
   "cell_type": "code",
   "execution_count": null,
   "metadata": {},
   "outputs": [],
   "source": [
    "  "
   ]
  }
 ],
 "metadata": {
  "interpreter": {
   "hash": "ed5e66bbe5399ecd4717cfac6c5f1a143ef084e323fe8aa2d4d29bf9978f5d21"
  },
  "kernelspec": {
   "display_name": "Python 3.9.5 64-bit ('base': conda)",
   "language": "python",
   "name": "python3"
  },
  "language_info": {
   "codemirror_mode": {
    "name": "ipython",
    "version": 3
   },
   "file_extension": ".py",
   "mimetype": "text/x-python",
   "name": "python",
   "nbconvert_exporter": "python",
   "pygments_lexer": "ipython3",
   "version": "3.9.5"
  },
  "orig_nbformat": 4
 },
 "nbformat": 4,
 "nbformat_minor": 2
}
