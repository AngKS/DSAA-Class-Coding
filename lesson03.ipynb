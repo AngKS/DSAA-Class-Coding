{
 "cells": [
  {
   "cell_type": "code",
   "execution_count": 1,
   "metadata": {},
   "outputs": [],
   "source": [
    "import pandas as pd\n",
    "import numpy as np\n",
    "import matplotlib.pyplot as plt\n",
    "import seaborn as sns"
   ]
  },
  {
   "cell_type": "code",
   "execution_count": 43,
   "metadata": {},
   "outputs": [],
   "source": [
    "class Student:\n",
    "    def __init__(self, studentID, name, age): # Self - instance of the object\n",
    "        self.studentID = studentID \n",
    "        self.name = name \n",
    "        self.age = age\n",
    "\n",
    "    def __str__(self):\n",
    "        print(\"-\" * 30)\n",
    "        print(f\"Student ID: {self.studentID:>10}\")\n",
    "        print(f\"Name: {self.name:>10}\")\n",
    "        print(f\"Age: {self.age:>10}\")\n",
    "\n",
    "\n"
   ]
  },
  {
   "cell_type": "code",
   "execution_count": 44,
   "metadata": {},
   "outputs": [],
   "source": [
    "student1 = Student(1, \"John\", 20)\n",
    "student2 = Student(2, \"Allen\", 19)\n",
    "student3 = Student(3, \"Mary\", 18)\n",
    "\n",
    "studentList = [student1, student2, student3]\n"
   ]
  },
  {
   "cell_type": "code",
   "execution_count": 47,
   "metadata": {},
   "outputs": [
    {
     "name": "stdout",
     "output_type": "stream",
     "text": [
      "------------------------------\n",
      "Student ID:       3333\n",
      "Name:       John\n",
      "Age:         20\n",
      "------------------------------\n",
      "Student ID:          2\n",
      "Name:      Allen\n",
      "Age:         19\n",
      "------------------------------\n",
      "Student ID:          3\n",
      "Name:       Mary\n",
      "Age:         18\n"
     ]
    }
   ],
   "source": [
    "for student in studentList:\n",
    "    student.__str__()"
   ]
  },
  {
   "cell_type": "code",
   "execution_count": 46,
   "metadata": {},
   "outputs": [],
   "source": [
    "## attempt to change studentID\n",
    "\n",
    "student1.studentID = 3333"
   ]
  },
  {
   "cell_type": "code",
   "execution_count": 62,
   "metadata": {},
   "outputs": [],
   "source": [
    "# protecting/privitise the class attributes\n",
    "\n",
    "class Student:\n",
    "    def __init__(self, studentID=123, name=\"john\", age=10):  # Self - instance of the object\n",
    "        self.__studentID = studentID # Name mangling - used to hide the attributes\n",
    "        self.name = name\n",
    "        self.age = age\n",
    "\n",
    "    def setID(studentID):\n",
    "        if len(studentID) < 4 or len(studentID) > 4:\n",
    "            raise ValueError(\"Student ID must be 4 digits\")\n",
    "        else:\n",
    "            self.__studentID = studentID\n",
    "\n",
    "    def __str__(self):\n",
    "        print(\"-\" * 30)\n",
    "        print(f\"Student ID: {self.__studentID:>10}\")\n",
    "        print(f\"Name: {self.name:>10}\")\n",
    "        print(f\"Age: {self.age:>10}\")\n"
   ]
  },
  {
   "cell_type": "code",
   "execution_count": 57,
   "metadata": {},
   "outputs": [],
   "source": [
    "newStudent = Student(1, \"John\", 20)"
   ]
  },
  {
   "cell_type": "code",
   "execution_count": 59,
   "metadata": {},
   "outputs": [],
   "source": [
    "newStudent.__studentID = 4444"
   ]
  },
  {
   "cell_type": "code",
   "execution_count": 61,
   "metadata": {},
   "outputs": [
    {
     "name": "stdout",
     "output_type": "stream",
     "text": [
      "------------------------------\n",
      "Student ID:          1\n",
      "Name:       John\n",
      "Age:         20\n"
     ]
    }
   ],
   "source": [
    "newStudent.__str__()"
   ]
  },
  {
   "cell_type": "markdown",
   "metadata": {},
   "source": [
    "# Lab Practice\n"
   ]
  },
  {
   "cell_type": "code",
   "execution_count": 74,
   "metadata": {},
   "outputs": [],
   "source": [
    "# Task 01: Create a Student class; and initialize it with studentID, name and age as private attributes.\n",
    "\n",
    "class Student:\n",
    "    def __init__(self, studentID=0000, name=\"john\", age=18):  # Self - instance of the object\n",
    "        self.__studentID = studentID # Name mangling - used to hide the attributes\n",
    "        self.__name = name\n",
    "        self.__age = age\n",
    "\n",
    "    def getID(self):\n",
    "        return self.__studentID\n",
    "    def getName(self):\n",
    "        return self.__name\n",
    "    def getAge(self):\n",
    "        return self.__age\n",
    "\n",
    "    def setID(self, studentID):\n",
    "        if len(studentID) < 4 or len(studentID) > 4:\n",
    "            return \"Student ID must be 4 digits\"\n",
    "        else:\n",
    "            self.__studentID = studentID\n",
    "\n",
    "    def setName(self, name):\n",
    "        # validate name\n",
    "        for letter in name:\n",
    "            if not letter.isalpha() and not letter.isspace():\n",
    "                return \"Name must be alphabetic\"\n",
    "            \n",
    "        self.__name = name\n",
    "\n",
    "    def setAge(self, age):\n",
    "        self.__age = age\n",
    "        "
   ]
  },
  {
   "cell_type": "code",
   "execution_count": 75,
   "metadata": {},
   "outputs": [],
   "source": [
    "peter = Student(1, \"Peter\", 20)"
   ]
  },
  {
   "cell_type": "code",
   "execution_count": 102,
   "metadata": {},
   "outputs": [],
   "source": [
    "class Pikachu:\n",
    "    def __init__(self, height, weight, gender, name=\"Pikachu\"):\n",
    "        self.__name = name\n",
    "        self.__height = height\n",
    "        self.__weight = weight\n",
    "        self.__gender = gender\n",
    "        self.__type = \"Electric\"\n",
    "\n",
    "    # print \"pika!\" warcry\n",
    "    def cry(self):\n",
    "        return \"PikAAAAAAA..... CHUUUUU\"\n",
    "\n",
    "    # Print myself\n",
    "    def info(self):\n",
    "        return f\"Name: {self.__name} Height: {self.__height} Weight: {self.__weight} Gender: {self.__gender}\"\n",
    "    \n"
   ]
  },
  {
   "cell_type": "code",
   "execution_count": 103,
   "metadata": {},
   "outputs": [],
   "source": [
    "pikachu1 = Pikachu(1.04, 13.2, \"M\", \"AKS\")\n"
   ]
  },
  {
   "cell_type": "code",
   "execution_count": 104,
   "metadata": {},
   "outputs": [
    {
     "data": {
      "text/plain": [
       "'PikAAAAAAA..... CHUUUUU'"
      ]
     },
     "execution_count": 104,
     "metadata": {},
     "output_type": "execute_result"
    }
   ],
   "source": [
    "pikachu1.cry()"
   ]
  },
  {
   "cell_type": "code",
   "execution_count": 105,
   "metadata": {},
   "outputs": [
    {
     "data": {
      "text/plain": [
       "'Name: AKS Height: 1.04 Weight: 13.2 Gender: M'"
      ]
     },
     "execution_count": 105,
     "metadata": {},
     "output_type": "execute_result"
    }
   ],
   "source": [
    "pikachu1.info()"
   ]
  },
  {
   "cell_type": "markdown",
   "metadata": {},
   "source": [
    "## Inheritance"
   ]
  },
  {
   "cell_type": "code",
   "execution_count": 28,
   "metadata": {},
   "outputs": [],
   "source": [
    "class Pokemon:\n",
    "    \"\"\" Pokemon Parent class that encapsulates all the different pokemons \"\"\"\n",
    "    def __init__(self, height, weight, gender):\n",
    "        self.__height = height\n",
    "        self.__weight = weight\n",
    "        self.__gender = gender\n",
    "        self.__type = ''\n",
    "\n",
    "    def cry(self, cry):\n",
    "        raise NotImplementedError(\"Please implement a subclass to the abstract method.\")\n",
    "\n",
    "    def info(self):\n",
    "        return f\"Type: {self.__type} Height: {self.__height} Weight: {self.__weight} Gender: {self.__gender}\"\n",
    "\n"
   ]
  },
  {
   "cell_type": "code",
   "execution_count": 31,
   "metadata": {},
   "outputs": [],
   "source": [
    "# Create an is-a relationship: Pikachu is a Pokemon\n",
    "class Pikachu(Pokemon):\n",
    "    \"\"\" Pikachu inherits all the properties of Pokemon\"\"\"\n",
    "    def __init__(self, height, weight, gender):\n",
    "        # super() allow you to access the parent attributes/functions\n",
    "        super().__init__(height, weight, gender)\n",
    "        self.__type = 'Electric'\n",
    "    \n",
    "    def cry(self):\n",
    "        print(\"PIIIIIIKKAAAAAA.....CHUUUUUU!!!\")\n",
    "\n",
    "    def info(self):\n",
    "        super().info()\n",
    "        print(f'Type: {self.__type}')\n"
   ]
  },
  {
   "cell_type": "code",
   "execution_count": 33,
   "metadata": {},
   "outputs": [
    {
     "name": "stdout",
     "output_type": "stream",
     "text": [
      "PIIIIIIKKAAAAAA.....CHUUUUUU!!!\n",
      "Type: Electric\n"
     ]
    }
   ],
   "source": [
    "pika1 = Pikachu(1.0, 30, 'M')\n",
    "pika1.cry()\n",
    "pika1.info()"
   ]
  },
  {
   "cell_type": "code",
   "execution_count": 26,
   "metadata": {},
   "outputs": [],
   "source": [
    "class Charmander(Pokemon):\n",
    "    # directly inherit everything from parent class 'Pokemon'\n",
    "    def __init__(self, height, weight, gender):\n",
    "        super().__init__(height, weight, gender)\n",
    "        self.__type = 'Fire'\n",
    "    def info(self):\n",
    "        super().info()\n",
    "        print(f\"Type: {self.__type}\")\n",
    "    pass"
   ]
  },
  {
   "cell_type": "code",
   "execution_count": 27,
   "metadata": {},
   "outputs": [
    {
     "data": {
      "text/plain": [
       "'ROARR'"
      ]
     },
     "execution_count": 27,
     "metadata": {},
     "output_type": "execute_result"
    },
    {
     "name": "stdout",
     "output_type": "stream",
     "text": [
      "Type: Fire\n"
     ]
    }
   ],
   "source": [
    "char1 = Charmander(1.3, 55, 'F')\n",
    "char1.cry(\"ROARR\")\n",
    "char1.info()"
   ]
  },
  {
   "cell_type": "markdown",
   "metadata": {},
   "source": [
    "## Abstract Classes"
   ]
  },
  {
   "cell_type": "markdown",
   "metadata": {},
   "source": [
    "Abstract classes are classes where you should not be able to create an instance of it,\n",
    "an idea of a Class but it does not make sense"
   ]
  },
  {
   "cell_type": "code",
   "execution_count": 69,
   "metadata": {},
   "outputs": [],
   "source": [
    "class Pokemon:  # generic pokemon\n",
    "    def __init__(self, height, weight, gender, cp=100):\n",
    "        self.__height = height\n",
    "        self.__weight = weight\n",
    "        self.__gender = gender\n",
    "        self.__type = ''  # unknown type for now\n",
    "        self.__cp = cp\n",
    "\n",
    "    def cry(self):\n",
    "        # Method overriding to enforce child classes to implement the abstract functions\n",
    "        raise NotImplementedError(\"Subclass must be implemented for abstract functions\") \n",
    "\n",
    "    def __str__(self):\n",
    "        return f\"Height: {self.__height}\\tWeight: {self.__weight}\\tGender: {self.__gender}\\tCP: {self.__cp}\"\n",
    "\n",
    "    def printMe(self):\n",
    "        print(f'Height: {self.__height}')\n",
    "        print(f'Weight: {self.__weight}')\n",
    "        print(f'Gender: {self.__gender}')\n",
    "        print(f'CP: {self.__cp}')\n",
    "        # print(f'Type: {self.__type}')\n",
    "\n",
    "\n",
    "class Pikachu(Pokemon):  # 'is a' relationship, Pikachu is a Pokemon\n",
    "    def __init__(self, height, weight, gender):\n",
    "        # have access to whatever the parent has\n",
    "        super().__init__(height, weight, gender)\n",
    "        self.__type = 'Electric'\n",
    "\n",
    "    def __str__(self):\n",
    "        return super().__str__() + f\"\\tType: {self.__type}\"\n",
    "\n",
    "    def cry(self):\n",
    "        print(\"PIKKAAAA\")\n",
    "\n",
    "    def printMe(self):  # override the behavior of the print function\n",
    "        super().printMe()\n",
    "        print(f'Type: {self.__type}')\n",
    "\n",
    "\n",
    "class Charmandar(Pokemon):\n",
    "    def __init__(self, height, weight, gender):\n",
    "        # have access to whatever the parent has\n",
    "        super().__init__(height, weight, gender)\n",
    "        self.__type = 'Fire'\n",
    "\n",
    "    def cry(self):\n",
    "        print(\"CHARMANDER\")\n",
    "\n",
    "    def printMe(self):  # override\n",
    "        super().printMe()\n",
    "        print(f'Type: {self.__type}')\n",
    "\n",
    "\n"
   ]
  },
  {
   "cell_type": "markdown",
   "metadata": {},
   "source": [
    "## PolyMorphism/ Multi-Layer Inheritence"
   ]
  },
  {
   "cell_type": "code",
   "execution_count": 88,
   "metadata": {},
   "outputs": [],
   "source": [
    "class Pokemon:  # generic pokemon\n",
    "    def __init__(self, height, weight, gender, cp=100):\n",
    "        self.__height = height\n",
    "        self.__weight = weight\n",
    "        self.__gender = gender\n",
    "        self.__type = ''  # unknown type for now\n",
    "        self.__cp = cp\n",
    "\n",
    "    def cry(self):\n",
    "        # Method overriding to enforce child classes to implement the abstract functions\n",
    "        raise NotImplementedError(\n",
    "            \"Subclass must be implemented for abstract functions\")\n",
    "\n",
    "    def __str__(self):\n",
    "        return f\"Height: {self.__height}\\tWeight: {self.__weight}\\tGender: {self.__gender}\\tCP: {self.__cp}\"\n",
    "\n",
    "    def printMe(self):\n",
    "        print(f'Height: {self.__height}')\n",
    "        print(f'Weight: {self.__weight}')\n",
    "        print(f'Gender: {self.__gender}')\n",
    "        print(f'CP: {self.__cp}')\n",
    "        # print(f'Type: {self.__type}')\n"
   ]
  },
  {
   "cell_type": "code",
   "execution_count": 81,
   "metadata": {},
   "outputs": [],
   "source": [
    "class ElectricPokemon(Pokemon):\n",
    "    def __init__(self, height, weight, gender, cp):\n",
    "        super().__init__(height, weight, gender, cp)\n",
    "        self.__type = 'electric'\n",
    "\n",
    "    def __str__(self):\n",
    "        return super().__str__() + f\"\\tType: {self.__type}\"\n"
   ]
  },
  {
   "cell_type": "code",
   "execution_count": 82,
   "metadata": {},
   "outputs": [],
   "source": [
    "class Pikachu(ElectricPokemon):  # 'is a' relationship, Pikachu is a Pokemon\n",
    "    def __init__(self, height, weight, gender, cp=100):\n",
    "        # have access to whatever the parent has\n",
    "        super().__init__(height, weight, gender, cp)\n",
    "\n",
    "\n",
    "    def cry(self):\n",
    "        print(\"PIKKAAAA\")\n",
    "\n",
    "    def printMe(self):  # override the behavior of the print function\n",
    "        super().printMe()\n",
    "        print(f'Type: {self.__type}')\n"
   ]
  },
  {
   "cell_type": "code",
   "execution_count": 86,
   "metadata": {},
   "outputs": [],
   "source": [
    "pika2 = Pikachu(1.0, 30, 'M')\n",
    "pika3 = Pikachu(1.0, 30, 'M', 500)\n",
    "print(pika2)\n",
    "print(pika3)\n"
   ]
  },
  {
   "cell_type": "code",
   "execution_count": 87,
   "metadata": {},
   "outputs": [
    {
     "name": "stdout",
     "output_type": "stream",
     "text": [
      "Height: 1.0\tWeight: 30\tGender: M\tCP: 100\tType: electric\n",
      "Height: 1.0\tWeight: 30\tGender: M\tCP: 500\tType: electric\n"
     ]
    }
   ],
   "source": []
  },
  {
   "cell_type": "markdown",
   "metadata": {},
   "source": [
    "## Function Overloading"
   ]
  },
  {
   "cell_type": "markdown",
   "metadata": {},
   "source": [
    "Refers to a feature where you can have multiple functions with the same name but different parameters"
   ]
  },
  {
   "cell_type": "code",
   "execution_count": 89,
   "metadata": {},
   "outputs": [
    {
     "data": {
      "text/plain": [
       "'Height: 1.0\\tWeight: 30\\tGender: M\\tCP: 100\\tType: electric'"
      ]
     },
     "execution_count": 89,
     "metadata": {},
     "output_type": "execute_result"
    }
   ],
   "source": [
    "pika2.__str__()"
   ]
  },
  {
   "cell_type": "markdown",
   "metadata": {},
   "source": [
    "## Operator Overloading"
   ]
  },
  {
   "cell_type": "code",
   "execution_count": null,
   "metadata": {},
   "outputs": [],
   "source": []
  }
 ],
 "metadata": {
  "interpreter": {
   "hash": "949777d72b0d2535278d3dc13498b2535136f6dfe0678499012e853ee9abcab1"
  },
  "kernelspec": {
   "display_name": "Python 3.9.5 64-bit",
   "name": "python3"
  },
  "language_info": {
   "codemirror_mode": {
    "name": "ipython",
    "version": 3
   },
   "file_extension": ".py",
   "mimetype": "text/x-python",
   "name": "python",
   "nbconvert_exporter": "python",
   "pygments_lexer": "ipython3",
   "version": "3.9.5"
  },
  "orig_nbformat": 4
 },
 "nbformat": 4,
 "nbformat_minor": 2
}
