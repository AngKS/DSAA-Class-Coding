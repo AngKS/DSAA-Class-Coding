{
 "cells": [
  {
   "cell_type": "code",
   "execution_count": 1,
   "metadata": {},
   "outputs": [],
   "source": [
    "import pandas as pd\n",
    "import numpy as np\n",
    "import matplotlib.pyplot as plt\n",
    "import seaborn as sns"
   ]
  },
  {
   "cell_type": "markdown",
   "metadata": {},
   "source": [
    "# Implementing Caesar Cipher"
   ]
  },
  {
   "cell_type": "code",
   "execution_count": 4,
   "metadata": {},
   "outputs": [
    {
     "name": "stdout",
     "output_type": "stream",
     "text": [
      "\n",
      "    This is a secret...! \n",
      "    I am Kah Shin.\n",
      "    This is the first practice of DSAA ZZZ\n",
      "\n",
      "\n",
      "    Guvf vf n frperg...! \n",
      "    V nz Xnu Fuva.\n",
      "    Guvf vf gur svefg cenpgvpr bs QFNN MMM\n",
      "\n",
      "\n",
      "    This is a secret...! \n",
      "    I am Kah Shin.\n",
      "    This is the first practice of DSAA ZZZ\n",
      "\n"
     ]
    }
   ],
   "source": [
    "# Implementing Caesar Cipher\n",
    "\n",
    "def decode(secret, shift):\n",
    "    decodedStr = ''\n",
    "    for letter in secret:\n",
    "        if letter.isalpha():\n",
    "            if letter.isupper():\n",
    "                decodedStr += (chr((ord(letter) - shift - 65) % 26 + 65))\n",
    "            else:\n",
    "                decodedStr += (chr((ord(letter) - shift - 97) % 26 + 97))\n",
    "        else:\n",
    "            decodedStr += letter\n",
    "    return decodedStr\n",
    "\n",
    "def encode(secret, shift):\n",
    "    new_string = ''\n",
    "    for letter in secret:\n",
    "        if letter.isalpha():\n",
    "            if letter.isupper():\n",
    "                new_string += (chr((ord(letter) + shift - 65) % 26 + 65))\n",
    "            else:\n",
    "                new_string += (chr((ord(letter) + shift - 97) % 26 + 97))\n",
    "\n",
    "        else:\n",
    "            new_string += letter\n",
    "    return new_string\n",
    "    \n",
    "text = '''\n",
    "    This is a secret...! \n",
    "    I am Kah Shin.\n",
    "    This is the first practice of DSAA ZZZ\n",
    "'''\n",
    "\n",
    "encoded_test = encode(text, 13)\n",
    "print(text)\n",
    "print(encoded_test)\n",
    "print(decode(encoded_test, 13))\n"
   ]
  },
  {
   "cell_type": "markdown",
   "metadata": {},
   "source": [
    "# Caesar Cipher Solution"
   ]
  },
  {
   "cell_type": "code",
   "execution_count": 10,
   "metadata": {},
   "outputs": [
    {
     "name": "stdout",
     "output_type": "stream",
     "text": [
      "\n",
      "This is a secret...!,\n",
      "I love DAAA\n",
      "\n",
      "\n",
      "Uijt jt b tfdsfu...!,\n",
      "J mpwf EBBB\n",
      "\n",
      "\n",
      "This is a secret...!,\n",
      "I love DAAA\n",
      "\n"
     ]
    }
   ],
   "source": [
    "\n",
    "def encode(test, shift):\n",
    "    output = \"\"\n",
    "    for letter in test:\n",
    "        if letter.isalpha():\n",
    "            # Use ORD/CHR to convert the letter into ASCII\n",
    "            asciiVal = ord(letter) + shift\n",
    "            \n",
    "            if letter.isupper():\n",
    "                asciiVal = (asciiVal - ord('A')) % 26 + ord('A')\n",
    "\n",
    "\n",
    "            else:\n",
    "                asciiVal = (asciiVal - ord('a')) % 26 + ord('a')\n",
    "\n",
    "\n",
    "            output += chr( asciiVal )\n",
    "            # Store letter into another variable\n",
    "        else: # Not an Alphabet\n",
    "            output += letter\n",
    "    return output\n",
    "\n",
    "text = \"\"\"\n",
    "This is a secret...!,\n",
    "I love DAAA\n",
    "\"\"\"\n",
    "\n",
    "encoded_text = encode(text, 1)\n",
    "print(text)\n",
    "print(encoded_text)\n",
    "print(encode(encoded_text, -1))\n"
   ]
  },
  {
   "cell_type": "markdown",
   "metadata": {},
   "source": [
    "# Morse Code Translator"
   ]
  },
  {
   "cell_type": "code",
   "execution_count": 4,
   "metadata": {},
   "outputs": [
    {
     "name": "stdout",
     "output_type": "stream",
     "text": [
      "...,---,..., ...,---,..., ---,..-,.-., ...,....,..,.--., ..,..., ...,..,-.,-.-,..,-.,--.,\n",
      ".--.,.-..,.,.-,...,., ....,.,.-..,.--.,\n",
      "HELLO  WORLD\n",
      "I  AM  KAH  SHIN \n",
      "\n"
     ]
    }
   ],
   "source": [
    "\n",
    "morseTable = {\n",
    "    \"A\" : \".-\", \"B\" : \"-...\", \"C\" : \"-.-.\", \"D\" : \"-..\",\n",
    "    \"E\" : \".\", \"F\" : \"..-.\", \"G\" : \"--.\", \"H\" : \"....\",\n",
    "    \"I\" : \"..\", \"J\" : \".---\", \"K\" : \"-.-\", \"L\" : \".-..\",\n",
    "    \"M\" : \"--\", \"N\" : \"-.\", \"O\" : \"---\", \"P\" : \".--.\",\n",
    "    \"Q\" : \"--.-\", \"R\" : \".-.\",  \"S\" : \"...\", \"T\" : \"-\",\n",
    "    \"U\" : \"..-\", \"V\" : \"...-\",  \"W\" : \".--\",  \"X\" : \"-..-\", \n",
    "    \"Y\" : \"-.--\", \"Z\" : \"--..\", \" \" : \",\"\n",
    "}\n",
    "\n",
    "\n",
    "def encode(file):\n",
    "    with open(file) as f:\n",
    "        text = f.readlines()\n",
    "    morseText = \"\"\n",
    "    for line in text:\n",
    "        for char in line:\n",
    "            if char.isalpha():\n",
    "                morseText += morseTable[f\"{char.upper()}\"] + \",\"\n",
    "            elif char == \" \":\n",
    "                morseText += \" \"\n",
    "            else:\n",
    "                morseText += char\n",
    "    return morseText\n",
    "\n",
    "\n",
    "def decode(file):\n",
    "    decoded = \"\"\n",
    "    with open(file) as f:\n",
    "        lines = f.readlines()\n",
    "    for line in lines:\n",
    "        words = line.split(\",\")\n",
    "        for word in words:\n",
    "            if word == \"\":\n",
    "                decoded += \" \"\n",
    "            for key, value in morseTable.items():\n",
    "                if word == value:\n",
    "                    decoded += key\n",
    "\n",
    "        decoded += \"\\n\"\n",
    "    return decoded\n",
    "\n",
    "\n",
    "encoded = encode(\"textSOS.txt\")\n",
    "decoded = decode(\"morseSOS.txt\")\n",
    "print(encoded)\n",
    "print(decoded)\n"
   ]
  },
  {
   "cell_type": "markdown",
   "metadata": {},
   "source": [
    "# Exercise 03"
   ]
  },
  {
   "cell_type": "code",
   "execution_count": 8,
   "metadata": {},
   "outputs": [],
   "source": [
    "import numpy as np\n",
    "import random"
   ]
  },
  {
   "cell_type": "code",
   "execution_count": 11,
   "metadata": {},
   "outputs": [
    {
     "data": {
      "text/plain": [
       "array([0., 0., 0., ..., 0., 0., 0.])"
      ]
     },
     "execution_count": 11,
     "metadata": {},
     "output_type": "execute_result"
    },
    {
     "data": {
      "text/plain": [
       "771"
      ]
     },
     "execution_count": 11,
     "metadata": {},
     "output_type": "execute_result"
    }
   ],
   "source": [
    "arr1 = np.zeros(1024)\n",
    "randomNum = random.randint(0, 1023)\n",
    "arr1 = arr1.replace()"
   ]
  },
  {
   "cell_type": "code",
   "execution_count": null,
   "metadata": {},
   "outputs": [],
   "source": []
  }
 ],
 "metadata": {
  "interpreter": {
   "hash": "949777d72b0d2535278d3dc13498b2535136f6dfe0678499012e853ee9abcab1"
  },
  "kernelspec": {
   "display_name": "Python 3.9.5 64-bit",
   "name": "python3"
  },
  "language_info": {
   "codemirror_mode": {
    "name": "ipython",
    "version": 3
   },
   "file_extension": ".py",
   "mimetype": "text/x-python",
   "name": "python",
   "nbconvert_exporter": "python",
   "pygments_lexer": "ipython3",
   "version": "3.9.5"
  },
  "orig_nbformat": 4
 },
 "nbformat": 4,
 "nbformat_minor": 2
}
