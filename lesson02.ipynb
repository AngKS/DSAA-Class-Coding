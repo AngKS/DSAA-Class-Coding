{
 "cells": [
  {
   "cell_type": "markdown",
   "metadata": {},
   "source": [
    "# Lesson 02"
   ]
  },
  {
   "cell_type": "markdown",
   "metadata": {},
   "source": [
    "## For the following cost Functions write down the Big-O Notation\n",
    "\n",
    "- $ T(n) = 2n^3 + 5n^2 + 1 = O(n^3) $\n",
    "\n",
    "- $ T(n) = 3n + \\log_2n = O(n) $\n",
    "- $ \\log_nX = y $ ; Log result(y) is the amount of times X can be divided by the base (n)\n",
    "\n",
    "- $ T(n) = 5n^3 + n\\log n + 2^n = O(2^n) $\n",
    "- $ T(n) = 3n + \\frac{1}{2}n + 50n = O(n) $"
   ]
  },
  {
   "cell_type": "markdown",
   "metadata": {},
   "source": [
    "## Case Study: Simple Brute Force algorithm A:"
   ]
  },
  {
   "cell_type": "markdown",
   "metadata": {},
   "source": [
    "### Big-O Notation for this algorithm = $ O(n) $"
   ]
  },
  {
   "cell_type": "code",
   "execution_count": null,
   "metadata": {},
   "outputs": [],
   "source": [
    "import random\n",
    "\n",
    "def randomNum(n):\n",
    "    return random.randint(1, n)\n",
    "\n",
    "def guessRandomly(maxNum):\n",
    "    myGuess = None\n",
    "    numGuess = 0\n",
    "    while True:\n",
    "        myGuess = randomNum(maxNum)\n",
    "        numGuess += 1\n",
    "        print(f\"My guess is {myGuess}\")\n",
    "        guessedCorr = input(\"Correct 'y' or 'n'? \").lower() == \"y\"\n",
    "        if guessedCorr:\n",
    "            print(f\"Noice! it took me {numGuess} tries to guess that number!\")\n",
    "            break\n",
    "\n",
    "maxNum = int(input(\"Enter the range: \"))\n",
    "# Wait for user\n",
    "input(f\"Think of a random number between 1 and {maxNum} and press enter once done!\")\n",
    "guessRandomly(maxNum)"
   ]
  },
  {
   "cell_type": "markdown",
   "metadata": {},
   "source": [
    "## Case Study: 'Slightly' improved, Simple, Brute Force Algorithm B:\n"
   ]
  },
  {
   "cell_type": "markdown",
   "metadata": {},
   "source": [
    "In the previous algorithm, we had observed some redundancy; Mary would occasionally ask for the same amount of number. We are not going to address the issue of redundancy as the issue lies in the way we produce random numbers.\n",
    "\n",
    "The Runtime will be slower than Alogrithm A; but the complexity still remains as $ O(n) $"
   ]
  },
  {
   "cell_type": "code",
   "execution_count": null,
   "metadata": {},
   "outputs": [],
   "source": [
    "import random\n",
    "\n",
    "\n",
    "def randomNum(n):\n",
    "    return random.randint(1, n)\n",
    "\n",
    "\n",
    "def guessRandomly(maxNum):\n",
    "    myGuess = None\n",
    "    numGuess = 0\n",
    "    numChecked = []\n",
    "    while True:\n",
    "        unique = False # Boolean Flag\n",
    "        while not unique:\n",
    "            myGuess = randomNum(maxNum)\n",
    "            if myGuess not in numChecked: # O(n); because of the in operator\n",
    "                numChecked.append(myGuess)\n",
    "                unique = True\n",
    "            numChecked.append(myGuess)\n",
    "        numGuess += 1\n",
    "        print(f\"My guess is {myGuess}\")\n",
    "        guessedCorr = input(\"Correct 'y' or 'n'? \").lower() == \"y\"\n",
    "        if guessedCorr:\n",
    "            print(f\"Noice! it took me {numGuess} tries to guess that number!\")\n",
    "            break\n",
    "\n",
    "\n",
    "maxNum = int(input(\"Enter the range: \"))\n",
    "# Wait for user\n",
    "input(\n",
    "    f\"Think of a random number between 1 and {maxNum} and press enter once done!\")\n",
    "guessRandomly(maxNum)\n"
   ]
  },
  {
   "cell_type": "markdown",
   "metadata": {},
   "source": [
    "### * Have to take note that by using ``` in``` operator, we will have added an $ O(n) $ complexity into our code."
   ]
  },
  {
   "cell_type": "markdown",
   "metadata": {},
   "source": [
    "## Simplistic Brute Force: Algorithm C\n",
    "\n",
    "How can we instruct a dice to produce each time that ir is being thrown, a new, unique, but yet still random number? \n",
    "\n",
    "Complexity = $ Q(n) = (1 + (n - 1)) / 2 = \\frac{1}{2} n $ aka $ O(n) $"
   ]
  },
  {
   "cell_type": "code",
   "execution_count": 38,
   "metadata": {},
   "outputs": [
    {
     "data": {
      "text/plain": [
       "''"
      ]
     },
     "execution_count": 38,
     "metadata": {},
     "output_type": "execute_result"
    },
    {
     "name": "stdout",
     "output_type": "stream",
     "text": [
      "[3, 2, 4, 5, 1]\n",
      "[3, 2, 4, 5, 1]\n",
      "It took me 2 to guess the correct number\n"
     ]
    }
   ],
   "source": [
    "# Produce a series of unique random numbers between 1 and 6\n",
    "\n",
    "def guessNum(maxNum):\n",
    "    myGuess = None\n",
    "    numGuess = 0\n",
    "    # Generate list of numbers from 1 to maxNum (inclusive)\n",
    "    randNums = [ i for i in range(1, maxNum + 1) ] # List comprehension\n",
    "    # Shuffle the randNums list\n",
    "    random.shuffle(randNums)\n",
    "    \n",
    "    while True:\n",
    "        myGuess = randNums[numGuess] # Accessing the shuffled list\n",
    "        numGuess += 1\n",
    "        if numGuess > maxNum - 1: # Reached the end of list\n",
    "            break\n",
    "        else:\n",
    "            # Check if it is the same\n",
    "            if input(f\"Is the number {myGuess}? \").lower() == 'y':\n",
    "                break\n",
    "            \n",
    "        \n",
    "\n",
    "    print(f\"It took me {numGuess} to guess the correct number\")\n",
    "\n",
    "\n",
    "maxNum = int(input(\"Enter the range: \"))\n",
    "# Wait for user\n",
    "input(\n",
    "    f\"Think of a random number between 1 and {maxNum} and press enter once done!\")\n",
    "guessNum(maxNum)\n"
   ]
  },
  {
   "cell_type": "markdown",
   "metadata": {},
   "source": [
    "## A Divide & Conquer Solution: Algorithm D\n",
    "\n",
    "Complexity: $ Q(n) = \\log 2(n) $"
   ]
  },
  {
   "cell_type": "code",
   "execution_count": 1,
   "metadata": {},
   "outputs": [
    {
     "name": "stdout",
     "output_type": "stream",
     "text": [
      "Is the number smaller than 5?\n",
      "Is the number smaller than 3?\n",
      "Is the number smaller than 2?\n",
      "It took 3 to guess: 2\n"
     ]
    }
   ],
   "source": [
    "def guessing(maxNum):\n",
    "    guessed = False\n",
    "    numGuess = 0\n",
    "    candidates = [ i for i in range(1, maxNum + 1)]\n",
    "    # numCandidates = maxNum\n",
    "\n",
    "    while not guessed:\n",
    "        breakPointIndex = (len(candidates) // 2)\n",
    "        breakpoint = candidates[breakPointIndex]\n",
    "        print(f\"Is the number smaller than {breakpoint}?\")\n",
    "        \n",
    "        if input(f\"'y' or 'n'? \").lower() == 'y':\n",
    "            candidates = candidates[: breakPointIndex]\n",
    "        else:\n",
    "            candidates = candidates[breakPointIndex:]\n",
    "        \n",
    "        numGuess += 1\n",
    "        if len(candidates) == 1:\n",
    "            guessed = True\n",
    "    print(f\"It took {numGuess} to guess: {candidates[0]}\")\n",
    "\n",
    "guessing(input(\"Enter the range: \"))"
   ]
  },
  {
   "cell_type": "code",
   "execution_count": null,
   "metadata": {},
   "outputs": [],
   "source": []
  }
 ],
 "metadata": {
  "interpreter": {
   "hash": "949777d72b0d2535278d3dc13498b2535136f6dfe0678499012e853ee9abcab1"
  },
  "kernelspec": {
   "display_name": "Python 3.9.5 64-bit",
   "name": "python3"
  },
  "language_info": {
   "codemirror_mode": {
    "name": "ipython",
    "version": 3
   },
   "file_extension": ".py",
   "mimetype": "text/x-python",
   "name": "python",
   "nbconvert_exporter": "python",
   "pygments_lexer": "ipython3",
   "version": "3.9.5"
  },
  "orig_nbformat": 4
 },
 "nbformat": 4,
 "nbformat_minor": 2
}
