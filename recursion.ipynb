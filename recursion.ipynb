{
 "cells": [
  {
   "cell_type": "markdown",
   "metadata": {},
   "source": [
    "# Topic 03: Recursion"
   ]
  },
  {
   "cell_type": "code",
   "execution_count": 2,
   "metadata": {},
   "outputs": [
    {
     "name": "stdout",
     "output_type": "stream",
     "text": [
      "Hello\n",
      "Hello\n",
      "Hello\n"
     ]
    }
   ],
   "source": [
    "def printHello(n):\n",
    "    print(\"Hello\")\n",
    "    if n > 1:\n",
    "        printHello(n-1)\n",
    "printHello(3)"
   ]
  },
  {
   "cell_type": "code",
   "execution_count": 7,
   "metadata": {},
   "outputs": [
    {
     "name": "stdout",
     "output_type": "stream",
     "text": [
      "5\n",
      "4\n",
      "3\n",
      "2\n",
      "1\n",
      "0\n"
     ]
    }
   ],
   "source": [
    "def countdown(count):\n",
    "\n",
    "    while count >= 0:\n",
    "        print(count)\n",
    "        count -= 1\n",
    "countdown(5)"
   ]
  },
  {
   "cell_type": "code",
   "execution_count": 8,
   "metadata": {},
   "outputs": [
    {
     "name": "stdout",
     "output_type": "stream",
     "text": [
      "5 4 3 2 1 0 "
     ]
    }
   ],
   "source": [
    "def countDown(count):\n",
    "    print(count, end=\" \")\n",
    "    count -= 1\n",
    "    if count >= 0:\n",
    "        countDown(count)\n",
    "countDown(5)"
   ]
  },
  {
   "cell_type": "code",
   "execution_count": 5,
   "metadata": {},
   "outputs": [
    {
     "name": "stdout",
     "output_type": "stream",
     "text": [
      "1\n",
      "2\n",
      "3\n",
      "4\n",
      "5\n"
     ]
    }
   ],
   "source": [
    "def countUp(num):\n",
    "    if num > 1:\n",
    "        countUp(num-1)\n",
    "    print(num)\n",
    "countUp(5)"
   ]
  },
  {
   "cell_type": "markdown",
   "metadata": {},
   "source": [
    "## 3 Laws of Recursive alogirthms\n",
    "\n",
    "1. A recursive aloggitm must have a stopping condition.\n",
    "2. A recursive algorithm must change its state towards the stop condition.\n",
    "3. A recursive algorithm must call itelf."
   ]
  },
  {
   "cell_type": "code",
   "execution_count": 3,
   "metadata": {},
   "outputs": [
    {
     "name": "stdout",
     "output_type": "stream",
     "text": [
      "30\n"
     ]
    }
   ],
   "source": [
    "def product(l):\n",
    "    if len(l) == 1:\n",
    "        return l[0]\n",
    "    else:\n",
    "        return l[0] * product(l[1:])\n",
    "\n",
    "print(product([5, 2, 3]))"
   ]
  },
  {
   "cell_type": "markdown",
   "metadata": {},
   "source": [
    "### Class Exercise 01"
   ]
  },
  {
   "cell_type": "code",
   "execution_count": 8,
   "metadata": {},
   "outputs": [
    {
     "name": "stdout",
     "output_type": "stream",
     "text": [
      "All are even is True\n",
      "All are even is False\n",
      "All are even is False\n"
     ]
    }
   ],
   "source": [
    "# Iterative Solution\n",
    "def areEven(l): \n",
    "    allEven = True \n",
    "    for num in l:\n",
    "        if num % 2 == 1:\n",
    "            allEven = False \n",
    "            break\n",
    "    return allEven\n",
    "\n",
    "print('All are even is',areEven([2,4,6,8,10])) \n",
    "print('All are even is',areEven([2,4,6,8,11] ))\n",
    "print('All are even is',areEven([2,4,5,8,11] ))"
   ]
  },
  {
   "cell_type": "markdown",
   "metadata": {},
   "source": [
    "### Convert from Loop to Recursion\n",
    "\n",
    "Converting from element-wise loop(looping through item in a list)\n",
    "- Stopping condition is when there is only 1 item left in the list\n",
    "- A recursive call will reduce the size of the list, usually 1 by 1"
   ]
  },
  {
   "cell_type": "code",
   "execution_count": 14,
   "metadata": {},
   "outputs": [
    {
     "name": "stdout",
     "output_type": "stream",
     "text": [
      "All are even is True\n",
      "All are even is False\n"
     ]
    }
   ],
   "source": [
    "# Recursive Solution\n",
    "def areEven(l):\n",
    "    if len(l) == 1:\n",
    "        return l[0] % 2 == 0\n",
    "    else:\n",
    "        if areEven(l[1:]): # Slice first item of index [0] and return whether or not list except first item are all even.\n",
    "            return l[0] % 2 == 0 # By here, everything should be even number down to the first item.\n",
    "\n",
    "        return False\n",
    "    \n",
    "print('All are even is',areEven( [2,4,6,8,10] )) \n",
    "print('All are even is',areEven( [2,4,6,8,11] ))"
   ]
  },
  {
   "cell_type": "code",
   "execution_count": 15,
   "metadata": {},
   "outputs": [
    {
     "name": "stdout",
     "output_type": "stream",
     "text": [
      "All are even is True\n",
      "All are even is False\n"
     ]
    }
   ],
   "source": [
    "# Recursive Solution 02: Short-Circuiting the return condition\n",
    "def areEven(l):\n",
    "    if len(l) == 1:\n",
    "        return l[0] % 2 == 0\n",
    "    else:\n",
    "        # using AND operator to short-circuit the function\n",
    "        return l[0] % 2 == 0 and areEven(l[1:])\n",
    "\n",
    "\n",
    "print('All are even is', areEven([2, 4, 6, 8, 10]))\n",
    "print('All are even is', areEven([2, 4, 6, 8, 11]))\n",
    "\n"
   ]
  },
  {
   "cell_type": "code",
   "execution_count": 18,
   "metadata": {},
   "outputs": [
    {
     "name": "stdout",
     "output_type": "stream",
     "text": [
      "9\n"
     ]
    }
   ],
   "source": [
    "# Iterative Solution\n",
    "def maxNum(l):\n",
    "    max = l[0]\n",
    "    for num in l[1:]:\n",
    "        if num > max:\n",
    "            max = num\n",
    "    return max\n",
    "\n",
    "print(maxNum([1, 9, 3, 5, 2]))"
   ]
  },
  {
   "cell_type": "code",
   "execution_count": 23,
   "metadata": {},
   "outputs": [
    {
     "name": "stdout",
     "output_type": "stream",
     "text": [
      "9\n"
     ]
    }
   ],
   "source": [
    "# Recursive Solution\n",
    "\n",
    "def maxNum(l):\n",
    "    if len(l) == 1:\n",
    "        return l[0]\n",
    "    else:\n",
    "        if l[1] > l[0]:\n",
    "            # Safely exclude first item since second item is larger than the first item\n",
    "            return maxNum(l[1:])\n",
    "        else:\n",
    "            # exclude second item since it is smaller/equal to first item\n",
    "            # Reconstruct the list by excluding the first item\n",
    "            return maxNum( [l[0]] + l[2:] )\n",
    "            \n",
    "        \n",
    "print(maxNum([1, 9, 3, 5, 2]))\n"
   ]
  },
  {
   "cell_type": "markdown",
   "metadata": {},
   "source": [
    "### Class Exercise 02: Reverse a List"
   ]
  },
  {
   "cell_type": "code",
   "execution_count": 25,
   "metadata": {},
   "outputs": [
    {
     "name": "stdout",
     "output_type": "stream",
     "text": [
      "[5, 4, 3, 2, 1]\n"
     ]
    }
   ],
   "source": [
    "# Iterative solution\n",
    "\n",
    "def reverse(l):\n",
    "    output = []\n",
    "    for num in l:\n",
    "        # prepend\n",
    "        output = [num] + output\n",
    "    return output\n",
    "\n",
    "print(reverse([1, 2, 3, 4, 5]))\n",
    "    "
   ]
  },
  {
   "cell_type": "code",
   "execution_count": 26,
   "metadata": {},
   "outputs": [
    {
     "name": "stdout",
     "output_type": "stream",
     "text": [
      "[5, 4, 3, 2, 1]\n"
     ]
    }
   ],
   "source": [
    "# Recursive Solution\n",
    "\n",
    "def reverse(l):\n",
    "    if len(l) == 1:\n",
    "        return l\n",
    "    else:\n",
    "        return [l[-1]] + reverse(l[:-1])\n",
    "print(reverse([1, 2, 3, 4, 5]))\n"
   ]
  },
  {
   "cell_type": "code",
   "execution_count": 28,
   "metadata": {},
   "outputs": [
    {
     "name": "stdout",
     "output_type": "stream",
     "text": [
      "[5, 4, 3, 2, 1]\n"
     ]
    }
   ],
   "source": [
    "# Recursive Solution 02\n",
    "\n",
    "def reverse(l):\n",
    "    if len(l) == 1:\n",
    "        return l\n",
    "    else:\n",
    "        return reverse(l[1:]) + [l[0]]\n",
    "\n",
    "print(reverse([1, 2, 3, 4, 5]))\n"
   ]
  },
  {
   "cell_type": "markdown",
   "metadata": {},
   "source": [
    "### Convert from Loop to Recursion\n",
    "\n",
    "Converting from counting loop\n",
    "- Stopping condition will be the smallest number\n",
    "- Recursive Call will reduce the input from the largest to the smallest"
   ]
  },
  {
   "cell_type": "code",
   "execution_count": null,
   "metadata": {},
   "outputs": [],
   "source": []
  },
  {
   "cell_type": "markdown",
   "metadata": {},
   "source": [
    "## Class Exercise 03:"
   ]
  },
  {
   "cell_type": "code",
   "execution_count": 1,
   "metadata": {},
   "outputs": [],
   "source": [
    "import turtle\n",
    "\n",
    "def drawSquare(t, dim=50, x=0, y=0, col='blue', ps=2):\n",
    "    t.pencolor(col)\n",
    "    t.pensize(ps)\n",
    "    t.up()\n",
    "    t.goto(x, y)\n",
    "    t.down()\n",
    "\n",
    "    for i in range(4):\n",
    "        t.forward(dim)\n",
    "        t.right(90)\n",
    "    \n",
    "def DrawNestedSquare(tur, dim):\n",
    "    drawSquare(tur, dim, x= -(dim / 2), y = (dim /2), col='red')\n",
    "    \n",
    "    DrawNestedSquare(tur, dim - 5)\n",
    "\n",
    "\n",
    "# Main program\n",
    "tur = turtle.Turtle()  # is like a pen\n",
    "scr = turtle.Screen()  # is like a canvas tur.speed('fastest') # how fast the turtle goes\n",
    "# Setting the screen dimensions\n",
    "w, h = 200, 200\n",
    "# Canvas dimensions scr.setup(w+50, h+50) # Window dimension\n",
    "scr.screensize(w, h)\n",
    "# Draw your things here\n",
    "# DrawSquare(tur, dim=200, x=-100, y=100, col='green', ps=4)\n",
    "DrawNestedSquare(tur, dim=200)\n",
    "# When we click we will stop\n",
    "scr.exitonclick()\n"
   ]
  },
  {
   "cell_type": "code",
   "execution_count": 1,
   "metadata": {},
   "outputs": [],
   "source": [
    "# Task 06: Fractals & Recursions\n",
    "\n",
    "import turtle\n",
    "\n",
    "def drawFractals():\n",
    "    \n",
    "    pass\n",
    "\n",
    "# Main program\n",
    "tur = turtle.Turtle()  # is like a pen\n",
    "scr = turtle.Screen()  # is like a canvas tur.speed('fastest') # how fast the turtle goes\n",
    "# Setting the screen dimensions\n",
    "w, h = 200, 200\n",
    "# Canvas dimensions scr.setup(w+50, h+50) # Window dimension\n",
    "scr.screensize(w, h)\n",
    "# Draw your things here\n",
    "\n",
    "drawFractals()\n",
    "\n",
    "# When we click we will stop\n",
    "scr.exitonclick()\n"
   ]
  },
  {
   "cell_type": "code",
   "execution_count": 2,
   "metadata": {},
   "outputs": [
    {
     "ename": "Terminator",
     "evalue": "",
     "output_type": "error",
     "traceback": [
      "\u001b[0;31m---------------------------------------------------------------------------\u001b[0m",
      "\u001b[0;31mTerminator\u001b[0m                                Traceback (most recent call last)",
      "\u001b[0;32m/var/folders/jr/017d8q8145z52wbhxmqqxxkc0000gn/T/ipykernel_88162/10811264.py\u001b[0m in \u001b[0;36m<module>\u001b[0;34m\u001b[0m\n\u001b[1;32m     13\u001b[0m \u001b[0;34m\u001b[0m\u001b[0m\n\u001b[1;32m     14\u001b[0m \u001b[0;31m# Main program\u001b[0m\u001b[0;34m\u001b[0m\u001b[0;34m\u001b[0m\u001b[0;34m\u001b[0m\u001b[0m\n\u001b[0;32m---> 15\u001b[0;31m \u001b[0mtur\u001b[0m \u001b[0;34m=\u001b[0m \u001b[0mturtle\u001b[0m\u001b[0;34m.\u001b[0m\u001b[0mTurtle\u001b[0m\u001b[0;34m(\u001b[0m\u001b[0;34m)\u001b[0m  \u001b[0;31m# is like a pen\u001b[0m\u001b[0;34m\u001b[0m\u001b[0;34m\u001b[0m\u001b[0m\n\u001b[0m\u001b[1;32m     16\u001b[0m \u001b[0mscr\u001b[0m \u001b[0;34m=\u001b[0m \u001b[0mturtle\u001b[0m\u001b[0;34m.\u001b[0m\u001b[0mScreen\u001b[0m\u001b[0;34m(\u001b[0m\u001b[0;34m)\u001b[0m  \u001b[0;31m# is like a canvas tur.speed('fastest') # how fast the turtle goes\u001b[0m\u001b[0;34m\u001b[0m\u001b[0;34m\u001b[0m\u001b[0m\n\u001b[1;32m     17\u001b[0m \u001b[0;31m# Setting the screen dimensions\u001b[0m\u001b[0;34m\u001b[0m\u001b[0;34m\u001b[0m\u001b[0;34m\u001b[0m\u001b[0m\n",
      "\u001b[0;32m~/opt/miniconda3/lib/python3.9/turtle.py\u001b[0m in \u001b[0;36m__init__\u001b[0;34m(self, shape, undobuffersize, visible)\u001b[0m\n\u001b[1;32m   3812\u001b[0m         \u001b[0;32mif\u001b[0m \u001b[0mTurtle\u001b[0m\u001b[0;34m.\u001b[0m\u001b[0m_screen\u001b[0m \u001b[0;32mis\u001b[0m \u001b[0;32mNone\u001b[0m\u001b[0;34m:\u001b[0m\u001b[0;34m\u001b[0m\u001b[0;34m\u001b[0m\u001b[0m\n\u001b[1;32m   3813\u001b[0m             \u001b[0mTurtle\u001b[0m\u001b[0;34m.\u001b[0m\u001b[0m_screen\u001b[0m \u001b[0;34m=\u001b[0m \u001b[0mScreen\u001b[0m\u001b[0;34m(\u001b[0m\u001b[0;34m)\u001b[0m\u001b[0;34m\u001b[0m\u001b[0;34m\u001b[0m\u001b[0m\n\u001b[0;32m-> 3814\u001b[0;31m         RawTurtle.__init__(self, Turtle._screen,\n\u001b[0m\u001b[1;32m   3815\u001b[0m                            \u001b[0mshape\u001b[0m\u001b[0;34m=\u001b[0m\u001b[0mshape\u001b[0m\u001b[0;34m,\u001b[0m\u001b[0;34m\u001b[0m\u001b[0;34m\u001b[0m\u001b[0m\n\u001b[1;32m   3816\u001b[0m                            \u001b[0mundobuffersize\u001b[0m\u001b[0;34m=\u001b[0m\u001b[0mundobuffersize\u001b[0m\u001b[0;34m,\u001b[0m\u001b[0;34m\u001b[0m\u001b[0;34m\u001b[0m\u001b[0m\n",
      "\u001b[0;32m~/opt/miniconda3/lib/python3.9/turtle.py\u001b[0m in \u001b[0;36m__init__\u001b[0;34m(self, canvas, shape, undobuffersize, visible)\u001b[0m\n\u001b[1;32m   2556\u001b[0m         \u001b[0mself\u001b[0m\u001b[0;34m.\u001b[0m\u001b[0m_undobuffersize\u001b[0m \u001b[0;34m=\u001b[0m \u001b[0mundobuffersize\u001b[0m\u001b[0;34m\u001b[0m\u001b[0;34m\u001b[0m\u001b[0m\n\u001b[1;32m   2557\u001b[0m         \u001b[0mself\u001b[0m\u001b[0;34m.\u001b[0m\u001b[0mundobuffer\u001b[0m \u001b[0;34m=\u001b[0m \u001b[0mTbuffer\u001b[0m\u001b[0;34m(\u001b[0m\u001b[0mundobuffersize\u001b[0m\u001b[0;34m)\u001b[0m\u001b[0;34m\u001b[0m\u001b[0;34m\u001b[0m\u001b[0m\n\u001b[0;32m-> 2558\u001b[0;31m         \u001b[0mself\u001b[0m\u001b[0;34m.\u001b[0m\u001b[0m_update\u001b[0m\u001b[0;34m(\u001b[0m\u001b[0;34m)\u001b[0m\u001b[0;34m\u001b[0m\u001b[0;34m\u001b[0m\u001b[0m\n\u001b[0m\u001b[1;32m   2559\u001b[0m \u001b[0;34m\u001b[0m\u001b[0m\n\u001b[1;32m   2560\u001b[0m     \u001b[0;32mdef\u001b[0m \u001b[0mreset\u001b[0m\u001b[0;34m(\u001b[0m\u001b[0mself\u001b[0m\u001b[0;34m)\u001b[0m\u001b[0;34m:\u001b[0m\u001b[0;34m\u001b[0m\u001b[0;34m\u001b[0m\u001b[0m\n",
      "\u001b[0;32m~/opt/miniconda3/lib/python3.9/turtle.py\u001b[0m in \u001b[0;36m_update\u001b[0;34m(self)\u001b[0m\n\u001b[1;32m   2659\u001b[0m             \u001b[0;32mreturn\u001b[0m\u001b[0;34m\u001b[0m\u001b[0;34m\u001b[0m\u001b[0m\n\u001b[1;32m   2660\u001b[0m         \u001b[0;32melif\u001b[0m \u001b[0mscreen\u001b[0m\u001b[0;34m.\u001b[0m\u001b[0m_tracing\u001b[0m \u001b[0;34m==\u001b[0m \u001b[0;36m1\u001b[0m\u001b[0;34m:\u001b[0m\u001b[0;34m\u001b[0m\u001b[0;34m\u001b[0m\u001b[0m\n\u001b[0;32m-> 2661\u001b[0;31m             \u001b[0mself\u001b[0m\u001b[0;34m.\u001b[0m\u001b[0m_update_data\u001b[0m\u001b[0;34m(\u001b[0m\u001b[0;34m)\u001b[0m\u001b[0;34m\u001b[0m\u001b[0;34m\u001b[0m\u001b[0m\n\u001b[0m\u001b[1;32m   2662\u001b[0m             \u001b[0mself\u001b[0m\u001b[0;34m.\u001b[0m\u001b[0m_drawturtle\u001b[0m\u001b[0;34m(\u001b[0m\u001b[0;34m)\u001b[0m\u001b[0;34m\u001b[0m\u001b[0;34m\u001b[0m\u001b[0m\n\u001b[1;32m   2663\u001b[0m             \u001b[0mscreen\u001b[0m\u001b[0;34m.\u001b[0m\u001b[0m_update\u001b[0m\u001b[0;34m(\u001b[0m\u001b[0;34m)\u001b[0m                  \u001b[0;31m# TurtleScreenBase\u001b[0m\u001b[0;34m\u001b[0m\u001b[0;34m\u001b[0m\u001b[0m\n",
      "\u001b[0;32m~/opt/miniconda3/lib/python3.9/turtle.py\u001b[0m in \u001b[0;36m_update_data\u001b[0;34m(self)\u001b[0m\n\u001b[1;32m   2645\u001b[0m \u001b[0;34m\u001b[0m\u001b[0m\n\u001b[1;32m   2646\u001b[0m     \u001b[0;32mdef\u001b[0m \u001b[0m_update_data\u001b[0m\u001b[0;34m(\u001b[0m\u001b[0mself\u001b[0m\u001b[0;34m)\u001b[0m\u001b[0;34m:\u001b[0m\u001b[0;34m\u001b[0m\u001b[0;34m\u001b[0m\u001b[0m\n\u001b[0;32m-> 2647\u001b[0;31m         \u001b[0mself\u001b[0m\u001b[0;34m.\u001b[0m\u001b[0mscreen\u001b[0m\u001b[0;34m.\u001b[0m\u001b[0m_incrementudc\u001b[0m\u001b[0;34m(\u001b[0m\u001b[0;34m)\u001b[0m\u001b[0;34m\u001b[0m\u001b[0;34m\u001b[0m\u001b[0m\n\u001b[0m\u001b[1;32m   2648\u001b[0m         \u001b[0;32mif\u001b[0m \u001b[0mself\u001b[0m\u001b[0;34m.\u001b[0m\u001b[0mscreen\u001b[0m\u001b[0;34m.\u001b[0m\u001b[0m_updatecounter\u001b[0m \u001b[0;34m!=\u001b[0m \u001b[0;36m0\u001b[0m\u001b[0;34m:\u001b[0m\u001b[0;34m\u001b[0m\u001b[0;34m\u001b[0m\u001b[0m\n\u001b[1;32m   2649\u001b[0m             \u001b[0;32mreturn\u001b[0m\u001b[0;34m\u001b[0m\u001b[0;34m\u001b[0m\u001b[0m\n",
      "\u001b[0;32m~/opt/miniconda3/lib/python3.9/turtle.py\u001b[0m in \u001b[0;36m_incrementudc\u001b[0;34m(self)\u001b[0m\n\u001b[1;32m   1291\u001b[0m         \u001b[0;32mif\u001b[0m \u001b[0;32mnot\u001b[0m \u001b[0mTurtleScreen\u001b[0m\u001b[0;34m.\u001b[0m\u001b[0m_RUNNING\u001b[0m\u001b[0;34m:\u001b[0m\u001b[0;34m\u001b[0m\u001b[0;34m\u001b[0m\u001b[0m\n\u001b[1;32m   1292\u001b[0m             \u001b[0mTurtleScreen\u001b[0m\u001b[0;34m.\u001b[0m\u001b[0m_RUNNING\u001b[0m \u001b[0;34m=\u001b[0m \u001b[0;32mTrue\u001b[0m\u001b[0;34m\u001b[0m\u001b[0;34m\u001b[0m\u001b[0m\n\u001b[0;32m-> 1293\u001b[0;31m             \u001b[0;32mraise\u001b[0m \u001b[0mTerminator\u001b[0m\u001b[0;34m\u001b[0m\u001b[0;34m\u001b[0m\u001b[0m\n\u001b[0m\u001b[1;32m   1294\u001b[0m         \u001b[0;32mif\u001b[0m \u001b[0mself\u001b[0m\u001b[0;34m.\u001b[0m\u001b[0m_tracing\u001b[0m \u001b[0;34m>\u001b[0m \u001b[0;36m0\u001b[0m\u001b[0;34m:\u001b[0m\u001b[0;34m\u001b[0m\u001b[0;34m\u001b[0m\u001b[0m\n\u001b[1;32m   1295\u001b[0m             \u001b[0mself\u001b[0m\u001b[0;34m.\u001b[0m\u001b[0m_updatecounter\u001b[0m \u001b[0;34m+=\u001b[0m \u001b[0;36m1\u001b[0m\u001b[0;34m\u001b[0m\u001b[0;34m\u001b[0m\u001b[0m\n",
      "\u001b[0;31mTerminator\u001b[0m: "
     ]
    }
   ],
   "source": [
    "# Task 07: Fractal Tree\n",
    "\n",
    "import turtle\n",
    "\n",
    "\n",
    "def drawFractalTrees(tur, line_length, angle, colors, ps):\n",
    "    tur.pensize(ps)\n",
    "    tur.forward(line_length) # Main Branch\n",
    "\n",
    "    # Left branch\n",
    "    tur.left(angle)\n",
    "    drawFractalTrees(tur, line_length - 12, angle, colors, ps)\n",
    "\n",
    "    '''Assume turtle goes back to where it started'''\n",
    "\n",
    "    # Right branch\n",
    "    tur.right(2 * angle)\n",
    "    drawFractalTrees(tur, line_length - 10, angle, colors, ps)\n",
    "\n",
    "    # bring turtle back to where main branch started\n",
    "    tur.left(2 * angle)\n",
    "    tur.backward(line_length)\n",
    "\n",
    "\n",
    "# Main program\n",
    "tur = turtle.Turtle()  # is like a pen\n",
    "scr = turtle.Screen()  # is like a canvas tur.speed('fastest') # how fast the turtle goes\n",
    "# Setting the screen dimensions\n",
    "w, h = 200, 200\n",
    "# Canvas dimensions scr.setup(w+50, h+50) # Window dimension\n",
    "scr.screensize(w, h)\n",
    "# Draw your things here\n",
    "\n",
    "drawFractalTrees(\n",
    "    tur,\n",
    "    line_length=60,\n",
    "    angle=30,\n",
    "    colors = ['brown', 'green'],\n",
    "    ps=2\n",
    ")\n",
    "\n",
    "# When we click we will stop\n",
    "scr.exitonclick()\n"
   ]
  },
  {
   "cell_type": "code",
   "execution_count": null,
   "metadata": {},
   "outputs": [],
   "source": []
  }
 ],
 "metadata": {
  "interpreter": {
   "hash": "ed5e66bbe5399ecd4717cfac6c5f1a143ef084e323fe8aa2d4d29bf9978f5d21"
  },
  "kernelspec": {
   "display_name": "Python 3.9.5 64-bit ('base': conda)",
   "language": "python",
   "name": "python3"
  },
  "language_info": {
   "codemirror_mode": {
    "name": "ipython",
    "version": 3
   },
   "file_extension": ".py",
   "mimetype": "text/x-python",
   "name": "python",
   "nbconvert_exporter": "python",
   "pygments_lexer": "ipython3",
   "version": "3.9.5"
  },
  "orig_nbformat": 4
 },
 "nbformat": 4,
 "nbformat_minor": 2
}
